{
 "cells": [
  {
   "cell_type": "code",
   "execution_count": 1,
   "id": "c1524a5a",
   "metadata": {},
   "outputs": [],
   "source": [
    "import pandas as pd\n",
    "import geopandas as gpd\n",
    "from shapely.geometry import Point, Polygon, MultiPolygon\n",
    "from geoalchemy2 import Geometry, WKTElement\n",
    "import matplotlib.pyplot as plt\n",
    "import numpy as np\n",
    "\n",
    "from sqlalchemy import create_engine\n",
    "from sqlalchemy import text\n",
    "import psycopg2\n",
    "import psycopg2.extras\n",
    "import json\n",
    "\n",
    "from scipy.stats import zscore\n",
    "import math"
   ]
  },
  {
   "cell_type": "code",
   "execution_count": 2,
   "id": "50ee0705",
   "metadata": {},
   "outputs": [],
   "source": [
    "credentials = \"Credentials.json\"\n",
    "\n",
    "def pgconnect(credential_filepath, db_schema=\"public\"):\n",
    "    with open(credential_filepath) as f:\n",
    "        db_conn_dict = json.load(f)\n",
    "        host       = db_conn_dict['host']\n",
    "        db_user    = db_conn_dict['user']\n",
    "        db_pw      = db_conn_dict['password']\n",
    "        default_db = db_conn_dict['user']\n",
    "        try:\n",
    "            db = create_engine('postgresql+psycopg2://'+db_user+':'+db_pw+'@'+host+'/'+default_db, echo=False)\n",
    "            conn = db.connect()\n",
    "            print('Connected successfully.')\n",
    "        except Exception as e:\n",
    "            print(\"Unable to connect to the database.\")\n",
    "            print(e)\n",
    "            db, conn = None, None\n",
    "        return db,conn\n",
    "\n",
    "def query(conn, sqlcmd, args=None, df=True):\n",
    "    result = pd.DataFrame() if df else None\n",
    "    try:\n",
    "        if df:\n",
    "            result = pd.read_sql_query(sqlcmd, conn, params=args)\n",
    "        else:\n",
    "            result = conn.execute(sqlcmd, args).fetchall()\n",
    "            result = result[0] if len(result) == 1 else result\n",
    "    except Exception as e:\n",
    "        print(\"Error encountered: \", e, sep='\\n')\n",
    "    return result"
   ]
  },
  {
   "cell_type": "markdown",
   "id": "141738fb",
   "metadata": {},
   "source": [
    "Connect SQL"
   ]
  },
  {
   "cell_type": "code",
   "execution_count": 3,
   "id": "0a4f0f6e",
   "metadata": {},
   "outputs": [
    {
     "name": "stdout",
     "output_type": "stream",
     "text": [
      "Connected successfully.\n"
     ]
    }
   ],
   "source": [
    "db, conn = pgconnect(credentials)"
   ]
  },
  {
   "cell_type": "markdown",
   "id": "ce0ca19f",
   "metadata": {},
   "source": [
    "Open datasets"
   ]
  },
  {
   "cell_type": "code",
   "execution_count": 4,
   "id": "52cb1c6c",
   "metadata": {},
   "outputs": [],
   "source": [
    "regions = gpd.read_file('SA2_2021_AUST_SHP_GDA2020/SA2_2021_AUST_GDA2020.shp')\n",
    "businesses = pd.read_csv('Businesses.csv')\n",
    "stops = pd.read_csv('Stops.txt')\n",
    "polls = pd.read_csv('PollingPlaces2019.csv')\n",
    "school_future = gpd.read_file('catchments/catchments_future.shp')\n",
    "school_primary = gpd.read_file('catchments/catchments_primary.shp')\n",
    "school_secondary = gpd.read_file('catchments/catchments_secondary.shp')\n",
    "population = pd.read_csv('Population.csv')\n",
    "income = pd.read_csv('Income.csv')"
   ]
  },
  {
   "cell_type": "markdown",
   "id": "b4dcd38a",
   "metadata": {},
   "source": [
    "Ensure every row in geometry is represented as multipolygons"
   ]
  },
  {
   "cell_type": "code",
   "execution_count": 5,
   "id": "abc13910",
   "metadata": {},
   "outputs": [],
   "source": [
    "def create_wkt_element(geom, srid):\n",
    "    if geom.geom_type == 'Polygon':\n",
    "        geom = MultiPolygon([geom])\n",
    "    return WKTElement(geom.wkt, srid)\n",
    "\n",
    "srid = 4326\n",
    "regions.dropna(inplace=True)\n",
    "regions['geom'] = regions['geometry'].apply(lambda x: create_wkt_element(geom=x,srid=srid))  # applying the function\n",
    "regions = regions.drop(columns=\"geometry\")  # deleting the old copy\n",
    "\n",
    "school_future['geom'] = school_future['geometry'].apply(lambda x: create_wkt_element(geom=x,srid=srid))\n",
    "school_future = school_future.drop(columns=\"geometry\")\n",
    "\n",
    "school_primary['geom'] = school_primary['geometry'].apply(lambda x: create_wkt_element(geom=x,srid=srid))\n",
    "school_primary = school_primary.drop(columns=\"geometry\")\n",
    "\n",
    "school_secondary['geom'] = school_secondary['geometry'].apply(lambda x: create_wkt_element(geom=x,srid=srid))\n",
    "school_secondary = school_secondary.drop(columns=\"geometry\")"
   ]
  },
  {
   "cell_type": "markdown",
   "id": "aaf458e2",
   "metadata": {},
   "source": [
    "Create a column 'geom' for stops"
   ]
  },
  {
   "cell_type": "code",
   "execution_count": 6,
   "id": "5e158113",
   "metadata": {},
   "outputs": [],
   "source": [
    "stops['geom'] = gpd.points_from_xy(stops.stop_lon, stops.stop_lat)\n",
    "stops = stops.drop(columns=['stop_lat', 'stop_lon'])\n",
    "stops['geom'] = stops['geom'].apply(lambda x: WKTElement(x.wkt, srid=srid))"
   ]
  },
  {
   "cell_type": "code",
   "execution_count": 7,
   "id": "eee2bfbf",
   "metadata": {},
   "outputs": [],
   "source": [
    "polls.dropna(subset=['the_geom'], inplace=True)\n",
    "polls['geom'] = gpd.points_from_xy(polls.longitude, polls.latitude)\n",
    "polls['geom'] = polls['geom'].apply(lambda x: WKTElement(x.wkt, srid=srid))\n",
    "polls.drop(columns=['the_geom'], inplace=True)"
   ]
  },
  {
   "cell_type": "markdown",
   "id": "92613098",
   "metadata": {},
   "source": [
    "Rename columns because some of the column names start with number or is uppercase"
   ]
  },
  {
   "cell_type": "code",
   "execution_count": 8,
   "id": "8dba7b7f",
   "metadata": {},
   "outputs": [],
   "source": [
    "def col_converter_regions(col_names):\n",
    "    col_dict = {}\n",
    "    for c in col_names:\n",
    "        new_c = c.lower() #convert every column name to lowercase\n",
    "        if new_c[-2:] == '21': # if column names end with 21, remove it\n",
    "            new_c = new_c[:-2]\n",
    "        if new_c == 'loci_uri':\n",
    "            new_c = 'url'\n",
    "        col_dict[c] = new_c\n",
    "    return col_dict\n",
    "\n",
    "def col_converter_school(col_names):\n",
    "    col_dict = {}\n",
    "    for c in col_names:\n",
    "        col_dict[c] = c.lower()\n",
    "    return col_dict\n",
    "\n",
    "col_names = regions.columns.values.tolist()\n",
    "regions = regions.rename(columns=col_converter_regions(col_names))\n",
    "\n",
    "col_names = school_future.columns.tolist()\n",
    "school_future = school_future.rename(columns=col_converter_school(col_names))\n",
    "\n",
    "col_names = school_primary.columns.tolist()\n",
    "school_primary = school_primary.rename(columns=col_converter_school(col_names))\n",
    "\n",
    "col_names = school_secondary.columns.tolist()\n",
    "school_secondary = school_secondary.rename(columns=col_converter_school(col_names))\n",
    "\n",
    "businesses = businesses.rename(columns={'0_to_50k_businesses':'b_0_to_50k', '50k_to_200k_businesses':'b_50k_to_200k', '200k_to_2m_businesses':'b_200k_to_2m'})\n",
    "businesses = businesses.rename(columns={'2m_to_5m_businesses':'b_2m_to_5m', '5m_to_10m_businesses':'b_5m_to_10m', '10m_or_more_businesses':'b_10m_or_more'})\n",
    "\n",
    "population = population.rename(columns={'0-4_people':'p_0_to_4', '5-9_people':'p_5_to_9', '10-14_people':'p_10_to_14', '15-19_people':'p_15_to_19'})\n",
    "population = population.rename(columns={'20-24_people':'p_20_to_24', '25-29_people':'p_25_to_29', '30-34_people':'p_30_to_34', '35-39_people':'p_35_to_39'})\n",
    "population = population.rename(columns={'40-44_people':'p_40_to_44', '45-49_people':'p_45_to_49', '50-54_people':'p_50_to_54', '55-59_people':'p_55_to_59'})\n",
    "population = population.rename(columns={'60-64_people':'p_60_to_64', '65-69_people':'p_65_to_69', '70-74_people':'p_70_to_74', '75-79_people':'p_75_to_79'})\n",
    "population = population.rename(columns={'80-84_people':'p_80_to_84', '85-and-over_people':'p_85_and_over'})\n",
    "\n",
    "polls = polls.rename(columns={'FID':'fid'})\n"
   ]
  },
  {
   "cell_type": "markdown",
   "id": "69eea7c6",
   "metadata": {},
   "source": [
    "Replace some NA values"
   ]
  },
  {
   "cell_type": "code",
   "execution_count": 9,
   "id": "13b36aa2",
   "metadata": {},
   "outputs": [],
   "source": [
    "income = income.replace('np', None)"
   ]
  },
  {
   "cell_type": "markdown",
   "id": "03ac9243",
   "metadata": {},
   "source": [
    "Create Schema"
   ]
  },
  {
   "cell_type": "code",
   "execution_count": 10,
   "id": "6dcdf12f",
   "metadata": {},
   "outputs": [
    {
     "data": {
      "text/plain": [
       "<sqlalchemy.engine.cursor.CursorResult at 0x146d02120>"
      ]
     },
     "execution_count": 10,
     "metadata": {},
     "output_type": "execute_result"
    }
   ],
   "source": [
    "conn.execute(text(\"\"\"\n",
    "DROP TABLE IF EXISTS regions cascade;\n",
    "CREATE TABLE regions (\n",
    "    sa2_code VARCHAR(9),\n",
    "    sa2_name VARCHAR(100),\n",
    "    chg_flag CHAR,\n",
    "    chg_lbl VARCHAR(20),\n",
    "    sa3_code VARCHAR(5),\n",
    "    sa3_name VARCHAR(100),\n",
    "    sa4_code VARCHAR(3),\n",
    "    sa4_name VARCHAR(100),\n",
    "    gcc_code VARCHAR(5),\n",
    "    gcc_name VARCHAR(100),\n",
    "    ste_code CHAR,\n",
    "    ste_name VARCHAR(100),\n",
    "    aus_code VARCHAR(3),\n",
    "    aus_name VARCHAR(100),\n",
    "    areasqkm FLOAT,\n",
    "    url VARCHAR(100),\n",
    "    geom GEOMETRY(MULTIPOLYGON,4326)\n",
    ");\n",
    "\"\"\"))\n",
    "\n",
    "conn.execute(text(\"\"\"\n",
    "DROP TABLE IF EXISTS businesses;\n",
    "CREATE TABLE businesses (\n",
    "    industry_code CHAR, \n",
    "    industry_name VARCHAR(100),\n",
    "    sa2_code VARCHAR(9),\n",
    "    sa2_name VARCHAR(100),\n",
    "    b_0_to_50k INTEGER,\n",
    "    b_50k_to_200k INTEGER,\n",
    "    b_200k_to_2m INTEGER,\n",
    "    b_2m_to_5m INTEGER,\n",
    "    b_5m_to_10m INTEGER,\n",
    "    b_10m_or_more INTEGER,\n",
    "    total_businesses INTEGER\n",
    ");\n",
    "\"\"\"))\n",
    "#b_0_to_50k is the number of businesses' income < 50k\n",
    "\n",
    "conn.execute(text(\"\"\"\n",
    "DROP TABLE IF EXISTS stops;\n",
    "CREATE TABLE stops (\n",
    "    stop_id VARCHAR(10),\n",
    "    stop_code VARCHAR(10),\n",
    "    stop_name VARCHAR(100),\n",
    "    location_type FLOAT,\n",
    "    parent_station VARCHAR(10),\n",
    "    wheelchair_boarding CHAR,\n",
    "    platform_code VARCHAR(10),\n",
    "    geom GEOMETRY(POINT, 4326)\n",
    ");\n",
    "\"\"\"))\n",
    "\n",
    "conn.execute(text(\"\"\"\n",
    "DROP TABLE IF EXISTS polls;\n",
    "CREATE TABLE polls (\n",
    "    fid VARCHAR(100),\n",
    "    state VARCHAR(3),\n",
    "    division_id INTEGER,\n",
    "    division_name VARCHAR(100),\n",
    "    polling_place_id INTEGER,\n",
    "    polling_place_type_id INTEGER,\n",
    "    polling_place_name VARCHAR(100),\n",
    "    premises_name VARCHAR(100),\n",
    "    premises_address_1 VARCHAR(100),\n",
    "    premises_address_2 VARCHAR(100),\n",
    "    premises_address_3 VARCHAR(100),\n",
    "    premises_suburb VARCHAR(100),\n",
    "    premises_state_abbreviation VARCHAR(3),\n",
    "    premises_post_code INTEGER,\n",
    "    latitude FLOAT,\n",
    "    longitude FLOAT,\n",
    "    geom GEOMETRY(POINT,4326)\n",
    ");\n",
    "\"\"\"))\n",
    "\n",
    "conn.execute(text(\"\"\"\n",
    "DROP TABLE IF EXISTS school_future;\n",
    "CREATE TABLE school_future (\n",
    "    use_id VARCHAR(4),\n",
    "    catch_type VARCHAR(20),\n",
    "    use_desc VARCHAR(100),\n",
    "    add_date INTEGER,\n",
    "    kindergart INTEGER,\n",
    "    year1 INTEGER,\n",
    "    year2 INTEGER,\n",
    "    year3 INTEGER,\n",
    "    year4 INTEGER,\n",
    "    year5 INTEGER,\n",
    "    year6 INTEGER,\n",
    "    year7 INTEGER,\n",
    "    year8 INTEGER,\n",
    "    year9 INTEGER,\n",
    "    year10 INTEGER,\n",
    "    year11 INTEGER,\n",
    "    year12 INTEGER,\n",
    "    geom GEOMETRY(MULTIPOLYGON,4326)\n",
    ");\n",
    "\"\"\"))\n",
    "\n",
    "conn.execute(text(\"\"\"\n",
    "DROP TABLE IF EXISTS school_primary;\n",
    "CREATE TABLE school_primary (\n",
    "    use_id VARCHAR(4),\n",
    "    catch_type VARCHAR(20),\n",
    "    use_desc VARCHAR(100),\n",
    "    add_date INTEGER,\n",
    "    kindergart CHAR,\n",
    "    year1 CHAR,\n",
    "    year2 CHAR,\n",
    "    year3 CHAR,\n",
    "    year4 CHAR,\n",
    "    year5 CHAR,\n",
    "    year6 CHAR,\n",
    "    year7 CHAR,\n",
    "    year8 CHAR,\n",
    "    year9 CHAR,\n",
    "    year10 CHAR,\n",
    "    year11 CHAR,\n",
    "    year12 CHAR,\n",
    "    priority CHAR,\n",
    "    geom GEOMETRY(MULTIPOLYGON,4326)\n",
    ");\n",
    "\"\"\"))\n",
    "\n",
    "conn.execute(text(\"\"\"\n",
    "DROP TABLE IF EXISTS school_secondary;\n",
    "CREATE TABLE school_secondary (\n",
    "    use_id VARCHAR(4),\n",
    "    catch_type VARCHAR(20),\n",
    "    use_desc VARCHAR(100),\n",
    "    add_date INTEGER,\n",
    "    kindergart CHAR,\n",
    "    year1 CHAR,\n",
    "    year2 CHAR,\n",
    "    year3 CHAR,\n",
    "    year4 CHAR,\n",
    "    year5 CHAR,\n",
    "    year6 CHAR,\n",
    "    year7 CHAR,\n",
    "    year8 CHAR,\n",
    "    year9 CHAR,\n",
    "    year10 CHAR,\n",
    "    year11 CHAR,\n",
    "    year12 CHAR,\n",
    "    priority CHAR,\n",
    "    geom GEOMETRY(MULTIPOLYGON,4326)\n",
    ");\n",
    "\"\"\"))\n",
    "\n",
    "conn.execute(text(\"\"\"\n",
    "DROP TABLE IF EXISTS population;\n",
    "CREATE TABLE population (\n",
    "    sa2_code VARCHAR(9),\n",
    "    sa2_name VARCHAR(100),\n",
    "    p_0_to_4 INTEGER,\n",
    "    p_5_to_9 INTEGER,\n",
    "    p_10_to_14 INTEGER,\n",
    "    p_15_to_19 INTEGER,\n",
    "    p_20_to_24 INTEGER,\n",
    "    p_25_to_29 INTEGER,\n",
    "    p_30_to_34 INTEGER,\n",
    "    p_35_to_39 INTEGER,\n",
    "    p_40_to_44 INTEGER,\n",
    "    p_45_to_49 INTEGER,\n",
    "    p_50_to_54 INTEGER,\n",
    "    p_55_to_59 INTEGER,\n",
    "    p_60_to_64 INTEGER,\n",
    "    p_65_to_69 INTEGER,\n",
    "    p_70_to_74 INTEGER,\n",
    "    p_75_to_79 INTEGER,\n",
    "    p_80_to_84 INTEGER,\n",
    "    p_85_and_over INTEGER,\n",
    "    total_people INTEGER\n",
    ");\n",
    "\"\"\"))\n",
    "#p_0_to_4 is the number of people age from 0 to 4\n",
    "\n",
    "conn.execute(text(\"\"\"\n",
    "DROP TABLE IF EXISTS income;\n",
    "CREATE TABLE income (\n",
    "    sa2_code VARCHAR(9),\n",
    "    sa2_name VARCHAR(100),\n",
    "    earners INTEGER,\n",
    "    median_age INTEGER,\n",
    "    median_income INTEGER,\n",
    "    mean_income INTEGER\n",
    ");\n",
    "\"\"\"))"
   ]
  },
  {
   "cell_type": "markdown",
   "id": "6c973e0f",
   "metadata": {},
   "source": [
    "Importing dataframes to sql"
   ]
  },
  {
   "cell_type": "code",
   "execution_count": 11,
   "id": "376a0842",
   "metadata": {
    "scrolled": false
   },
   "outputs": [
    {
     "data": {
      "text/plain": [
       "576"
      ]
     },
     "execution_count": 11,
     "metadata": {},
     "output_type": "execute_result"
    }
   ],
   "source": [
    "regions.to_sql('regions', conn, if_exists='append', index=False, dtype={'geom': Geometry('MULTIPOLYGON', srid)})\n",
    "businesses.to_sql('businesses', conn, if_exists='append', index=False)\n",
    "stops.to_sql('stops', conn, if_exists='append', index=False, dtype={'geom': Geometry('POINT', srid)})\n",
    "polls.to_sql('polls', conn, if_exists='append', index=False, dtype={'geom': Geometry('POINT', srid)})\n",
    "school_future.to_sql('school_future', conn, if_exists='append', index=False, dtype={'geom': Geometry('MULTIPOLYGON', srid)})\n",
    "school_primary.to_sql('school_primary', conn, if_exists='append', index=False, dtype={'geom': Geometry('MULTIPOLYGON', srid)})\n",
    "school_secondary.to_sql('school_secondary', conn, if_exists='append', index=False, dtype={'geom': Geometry('MULTIPOLYGON', srid)})\n",
    "population.to_sql('population', conn, if_exists='append', index=False)\n",
    "income.to_sql('income', conn, if_exists='append', index=False)"
   ]
  },
  {
   "cell_type": "markdown",
   "id": "9ab308fd",
   "metadata": {},
   "source": [
    "Get investigatable regions, young people per region, total people per region:"
   ]
  },
  {
   "cell_type": "code",
   "execution_count": 12,
   "id": "7fb87a77",
   "metadata": {},
   "outputs": [
    {
     "name": "stdout",
     "output_type": "stream",
     "text": [
      "359\n"
     ]
    }
   ],
   "source": [
    "result = query(conn, text(\"\"\" \n",
    "    SELECT sa2_name, (p_0_to_4 + p_5_to_9 + p_10_to_14 + p_15_to_19) as young_people, total_people\n",
    "    FROM population\n",
    "\"\"\"))\n",
    "\n",
    "regions_arr = []\n",
    "region_to_young = dict()\n",
    "region_to_people = dict()\n",
    "for i, row in result.iterrows():\n",
    "    name, young, total = row.values\n",
    "    if young > 100 and total > 100:\n",
    "        regions_arr.append(name)\n",
    "        try:\n",
    "            young = int(young)\n",
    "            if young != 0:\n",
    "                region_to_young[name] = young\n",
    "        except ValueError as e:\n",
    "            continue\n",
    "        try:\n",
    "            total = int(total)\n",
    "            if total != 0:\n",
    "                region_to_people[name] = total\n",
    "        except ValueError as e:\n",
    "            continue\n",
    "\n",
    "print(len(regions_arr))"
   ]
  },
  {
   "cell_type": "markdown",
   "id": "d0e954aa",
   "metadata": {},
   "source": [
    "Retail:"
   ]
  },
  {
   "cell_type": "code",
   "execution_count": 13,
   "id": "649391a2",
   "metadata": {},
   "outputs": [
    {
     "name": "stdout",
     "output_type": "stream",
     "text": [
      "359\n"
     ]
    }
   ],
   "source": [
    "result = query(conn, text(\"\"\" \n",
    "    SELECT sa2_name, total_businesses\n",
    "    FROM businesses\n",
    "    WHERE industry_name = 'Retail Trade'\n",
    "    ORDER BY total_businesses DESC\n",
    "\"\"\"))\n",
    "\n",
    "retail_dict = dict.fromkeys(regions_arr, 0)\n",
    "for i, row in result.iterrows():\n",
    "    name, total = row.values\n",
    "    total = int(total)\n",
    "    retail_dict[name] = total\n",
    "\n",
    "retail_per_thousand = dict.fromkeys(regions_arr, 0)\n",
    "for key in retail_dict.keys():\n",
    "    try:\n",
    "        num = (retail_dict[key] / region_to_people[key])*1000\n",
    "        retail_per_thousand[key] = num\n",
    "    except KeyError:\n",
    "        continue\n",
    "\n",
    "retail_per_thousand = dict(sorted(retail_per_thousand.items(), key=lambda x: x[1], reverse=True))\n",
    "\n",
    "zscores = zscore(list(retail_per_thousand.values()))\n",
    "retail_zscores = dict(zip(retail_per_thousand.keys(), zscores))\n",
    "\n",
    "print(len(retail_zscores))"
   ]
  },
  {
   "cell_type": "markdown",
   "id": "011f8dc5",
   "metadata": {},
   "source": [
    "Health:"
   ]
  },
  {
   "cell_type": "code",
   "execution_count": 14,
   "id": "9cc7c104",
   "metadata": {},
   "outputs": [
    {
     "name": "stdout",
     "output_type": "stream",
     "text": [
      "359\n"
     ]
    }
   ],
   "source": [
    "result = query(conn, text(\"\"\" \n",
    "    SELECT sa2_name, total_businesses\n",
    "    FROM businesses\n",
    "    WHERE industry_name = 'Health Care and Social Assistance'\n",
    "    ORDER BY total_businesses DESC\n",
    "\"\"\"))\n",
    "\n",
    "health_dict = dict.fromkeys(regions_arr, 0)\n",
    "for i, row in result.iterrows():\n",
    "    name, total = row.values\n",
    "    total = int(total)\n",
    "    health_dict[name] = total\n",
    "\n",
    "health_per_thousand = dict()\n",
    "for key in health_dict.keys():\n",
    "    try:\n",
    "        num = (health_dict[key] / region_to_people[key])*1000\n",
    "        health_per_thousand[key] = num\n",
    "    except KeyError:\n",
    "        continue\n",
    "    \n",
    "health_per_thousand = dict(sorted(health_per_thousand.items(), key=lambda x: x[1], reverse=True))\n",
    "\n",
    "zscores = zscore(list(health_per_thousand.values()))\n",
    "health_zscores = dict(zip(health_per_thousand.keys(), zscores))\n",
    "    \n",
    "print(len(health_zscores))"
   ]
  },
  {
   "cell_type": "markdown",
   "id": "fb3be005",
   "metadata": {},
   "source": [
    "Index regions and stops for fast JOIN:"
   ]
  },
  {
   "cell_type": "code",
   "execution_count": 15,
   "id": "6d58898a",
   "metadata": {},
   "outputs": [],
   "source": [
    "conn.execute(text(\"\"\"\n",
    "    DROP INDEX IF EXISTS geom_idx_regions;\n",
    "    CREATE INDEX geom_idx_regions ON regions USING GIST(geom);\n",
    "\"\"\"));\n",
    "conn.execute(text(\"\"\"\n",
    "    DROP INDEX IF EXISTS geom_idx_stops;\n",
    "    CREATE INDEX geom_idx_stops ON regions USING GIST(geom);\n",
    "\"\"\"));"
   ]
  },
  {
   "cell_type": "markdown",
   "id": "de39bfeb",
   "metadata": {},
   "source": [
    "Stops:"
   ]
  },
  {
   "cell_type": "code",
   "execution_count": 16,
   "id": "027fccee",
   "metadata": {},
   "outputs": [
    {
     "name": "stdout",
     "output_type": "stream",
     "text": [
      "359\n"
     ]
    }
   ],
   "source": [
    "result = query(conn, text(\"\"\"\n",
    "    SELECT r.sa2_name, COUNT(*) \n",
    "    FROM regions r\n",
    "        JOIN stops s ON ST_Contains(r.geom, s.geom)\n",
    "    GROUP BY r.sa2_name\n",
    "    ORDER BY count DESC\n",
    "\"\"\"))\n",
    "\n",
    "stops_per_region = dict.fromkeys(regions_arr, 0)\n",
    "for i, row in result.iterrows():\n",
    "    region, count = row.values\n",
    "    if region in regions_arr:\n",
    "        stops_per_region[region] = count\n",
    "    \n",
    "zscores = zscore(list(stops_per_region.values()))\n",
    "stops_zscores = dict(zip(stops_per_region.keys(), zscores))\n",
    "\n",
    "print(len(stops_zscores))"
   ]
  },
  {
   "cell_type": "markdown",
   "id": "ab3b352c",
   "metadata": {},
   "source": [
    "Polls:"
   ]
  },
  {
   "cell_type": "code",
   "execution_count": 17,
   "id": "2857b2f3",
   "metadata": {},
   "outputs": [
    {
     "name": "stdout",
     "output_type": "stream",
     "text": [
      "359\n"
     ]
    }
   ],
   "source": [
    "result = query(conn, text(\"\"\"\n",
    "    SELECT r.sa2_name, COUNT(*) \n",
    "    FROM regions r\n",
    "        JOIN polls p ON ST_Contains(r.geom, p.geom)\n",
    "    GROUP BY r.sa2_name\n",
    "    ORDER BY count DESC\n",
    "\"\"\"))\n",
    "\n",
    "polls_per_region = dict.fromkeys(regions_arr, 0)\n",
    "for i, row in result.iterrows():\n",
    "    region, count = row.values\n",
    "    if region in regions_arr:\n",
    "        polls_per_region[region] = count\n",
    "\n",
    "zscores = zscore(list(polls_per_region.values()))\n",
    "polls_zscores = dict(zip(polls_per_region.keys(), zscores))\n",
    "\n",
    "print(len(polls_zscores))"
   ]
  },
  {
   "cell_type": "code",
   "execution_count": 18,
   "id": "431cc443",
   "metadata": {},
   "outputs": [],
   "source": [
    "conn.execute(text(\"\"\"\n",
    "    DROP INDEX IF EXISTS geom_idx_primary;\n",
    "    CREATE INDEX geom_idx_primary ON school_primary USING GIST(geom);\n",
    "\"\"\"));\n",
    "conn.execute(text(\"\"\"\n",
    "    DROP INDEX IF EXISTS geom_idx_secondary;\n",
    "    CREATE INDEX geom_idx_secondary ON school_secondary USING GIST(geom);\n",
    "\"\"\"));\n",
    "conn.execute(text(\"\"\"\n",
    "    DROP INDEX IF EXISTS geom_idx_future;\n",
    "    CREATE INDEX geom_idx_future ON school_future USING GIST(geom);\n",
    "\"\"\"));"
   ]
  },
  {
   "cell_type": "code",
   "execution_count": 19,
   "id": "4ac8ae7a",
   "metadata": {},
   "outputs": [
    {
     "name": "stdout",
     "output_type": "stream",
     "text": [
      "359\n"
     ]
    }
   ],
   "source": [
    "result = query(conn, text(\"\"\"\n",
    "    SELECT r.sa2_name, COUNT(*)\n",
    "    FROM regions r\n",
    "        JOIN school_primary s ON ST_Intersects(r.geom, s.geom)\n",
    "    GROUP BY sa2_name\n",
    "    ORDER BY count DESC\n",
    "\"\"\"))\n",
    "\n",
    "schools_per_region = dict.fromkeys(regions_arr, 0)\n",
    "for i, row in result.iterrows():\n",
    "    region, count = row.values\n",
    "    if region in regions_arr:\n",
    "        schools_per_region[region] = count\n",
    "\n",
    "result = query(conn, text(\"\"\"\n",
    "    SELECT r.sa2_name, COUNT(*)\n",
    "    FROM regions r\n",
    "        JOIN school_secondary s ON ST_Intersects(r.geom, s.geom)\n",
    "    GROUP BY sa2_name\n",
    "    ORDER BY count DESC\n",
    "\"\"\"))\n",
    "\n",
    "for i, row in result.iterrows():\n",
    "    region, count = row.values\n",
    "    if region in regions_arr:\n",
    "        schools_per_region[region] += count\n",
    "\n",
    "result = query(conn, text(\"\"\"\n",
    "    SELECT r.sa2_name, COUNT(*)\n",
    "    FROM regions r\n",
    "        JOIN school_future s ON ST_Intersects(r.geom, s.geom)\n",
    "    GROUP BY sa2_name\n",
    "    ORDER BY count DESC\n",
    "\"\"\"))\n",
    "\n",
    "for i, row in result.iterrows():\n",
    "    region, count = row.values\n",
    "    if region in regions_arr:\n",
    "        schools_per_region[region] += count\n",
    "        \n",
    "zscores = zscore(list(schools_per_region.values()))\n",
    "schools_zscores = dict(zip(schools_per_region.keys(), zscores))\n",
    "\n",
    "print(len(schools_zscores))"
   ]
  },
  {
   "cell_type": "markdown",
   "id": "38fd8198",
   "metadata": {},
   "source": [
    "Calculate Score:"
   ]
  },
  {
   "cell_type": "code",
   "execution_count": 20,
   "id": "e508d49c",
   "metadata": {},
   "outputs": [
    {
     "name": "stdout",
     "output_type": "stream",
     "text": [
      "359\n"
     ]
    }
   ],
   "source": [
    "scores = dict()\n",
    "for region in regions_arr:\n",
    "    sum = 0\n",
    "    try:\n",
    "        sum += retail_zscores.get(region)\n",
    "        sum += health_zscores.get(region)\n",
    "        sum += stops_zscores.get(region)\n",
    "        sum += polls_zscores.get(region)\n",
    "        sum += schools_zscores.get(region)\n",
    "    except TypeError as e:\n",
    "        print(e)\n",
    "        continue\n",
    "    scores[region] = 1 / (1 + math.exp(-sum))\n",
    "\n",
    "print(len(scores))"
   ]
  },
  {
   "cell_type": "markdown",
   "id": "120d29ec",
   "metadata": {},
   "source": [
    "Car crash in NSW"
   ]
  },
  {
   "cell_type": "code",
   "execution_count": 21,
   "id": "2e23c6bd",
   "metadata": {},
   "outputs": [],
   "source": [
    "crash = pd.read_excel('car_crash.xlsx')"
   ]
  },
  {
   "attachments": {},
   "cell_type": "markdown",
   "id": "a31f3cb3",
   "metadata": {},
   "source": [
    "Keep specific columns"
   ]
  },
  {
   "cell_type": "code",
   "execution_count": 22,
   "id": "56e4513b",
   "metadata": {},
   "outputs": [],
   "source": [
    "crash = crash[['Degree of crash', 'Year of crash', 'Month of crash', 'Day of week of crash', 'Latitude', 'Longitude', 'Weather']]"
   ]
  },
  {
   "cell_type": "markdown",
   "id": "b46d0e03",
   "metadata": {},
   "source": [
    "Create geom columns"
   ]
  },
  {
   "cell_type": "code",
   "execution_count": 23,
   "id": "7f184e90",
   "metadata": {},
   "outputs": [],
   "source": [
    "crash.dropna(inplace=True)\n",
    "crash['geom'] = gpd.points_from_xy(crash.Longitude, crash.Latitude)\n",
    "crash = crash.drop(columns=['Longitude', 'Latitude'])\n",
    "crash['geom'] = crash['geom'].apply(lambda x: WKTElement(x.wkt, srid=srid))"
   ]
  },
  {
   "cell_type": "markdown",
   "id": "19693bc3",
   "metadata": {},
   "source": [
    "Convert columns to lowercase"
   ]
  },
  {
   "cell_type": "code",
   "execution_count": 24,
   "id": "8a31a47a",
   "metadata": {},
   "outputs": [],
   "source": [
    "col_dict = {}\n",
    "for c in crash.columns:\n",
    "    col_dict[c] = c.lower()\n",
    "    keyword = c.split(' ')[0]\n",
    "    if keyword in ['Degree', 'Year', 'Month', 'Day']:\n",
    "        col_dict[c] = keyword.lower()\n",
    "crash.rename(columns=col_dict, inplace=True)"
   ]
  },
  {
   "cell_type": "markdown",
   "id": "dce94e2b",
   "metadata": {},
   "source": [
    "Create schema"
   ]
  },
  {
   "cell_type": "code",
   "execution_count": 25,
   "id": "22acb890",
   "metadata": {},
   "outputs": [],
   "source": [
    "conn.execute(text(\"\"\"\n",
    "DROP TABLE IF EXISTS crash;\n",
    "CREATE TABLE crash (\n",
    "    degree VARCHAR(100),\n",
    "    year INT,\n",
    "    month VARCHAR(20),\n",
    "    day VARCHAR(15),\n",
    "    weather VARCHAR(50),\n",
    "    geom GEOMETRY(POINT, 4326)\n",
    ");\n",
    "\"\"\"));"
   ]
  },
  {
   "cell_type": "code",
   "execution_count": 26,
   "id": "c90a8e22",
   "metadata": {},
   "outputs": [
    {
     "data": {
      "text/plain": [
       "718"
      ]
     },
     "execution_count": 26,
     "metadata": {},
     "output_type": "execute_result"
    }
   ],
   "source": [
    "crash.to_sql('crash', conn, if_exists='append', index=False, dtype={'geom': Geometry('POINT', srid)})"
   ]
  },
  {
   "cell_type": "code",
   "execution_count": 27,
   "id": "1529df48",
   "metadata": {},
   "outputs": [
    {
     "name": "stdout",
     "output_type": "stream",
     "text": [
      "359\n"
     ]
    }
   ],
   "source": [
    "result = query(conn, text(\"\"\"\n",
    "    SELECT r.sa2_name, COUNT(*) \n",
    "    FROM regions r\n",
    "        JOIN crash c ON ST_Contains(r.geom, c.geom)\n",
    "    GROUP BY r.sa2_name\n",
    "    ORDER BY count(*) DESC\n",
    "\"\"\"))\n",
    "\n",
    "crash_per_region = dict.fromkeys(regions_arr, 0)\n",
    "for i, row in result.iterrows():\n",
    "    region, count = row.values\n",
    "    if region in regions_arr:\n",
    "        crash_per_region[region] = count\n",
    "    \n",
    "zscores = zscore(list(crash_per_region.values()))\n",
    "crash_zscores = dict(zip(crash_per_region.keys(), zscores))\n",
    "print(len(crash_zscores))"
   ]
  },
  {
   "attachments": {},
   "cell_type": "markdown",
   "id": "6053618f",
   "metadata": {},
   "source": [
    "Crime Rates:"
   ]
  },
  {
   "cell_type": "code",
   "execution_count": 28,
   "id": "eb0de58b",
   "metadata": {},
   "outputs": [],
   "source": [
    "crime = pd.read_csv(\"crime_rate\")"
   ]
  },
  {
   "cell_type": "markdown",
   "id": "9427d590",
   "metadata": {},
   "source": [
    "Keep specific columns"
   ]
  },
  {
   "cell_type": "code",
   "execution_count": 29,
   "id": "d204a8b4",
   "metadata": {},
   "outputs": [],
   "source": [
    "crime = crime[['bcsrgrp', 'locsurb', 'locpcode', 'bcsrgclat', 'bcsrgclng', 'incyear', 'incmonth', 'incday']]"
   ]
  },
  {
   "cell_type": "markdown",
   "id": "bc75ab83",
   "metadata": {},
   "source": [
    "Create geom column"
   ]
  },
  {
   "cell_type": "code",
   "execution_count": 30,
   "id": "19dc7113",
   "metadata": {},
   "outputs": [],
   "source": [
    "crime.dropna(subset=['bcsrgclat', 'bcsrgclng'], inplace=True)\n",
    "crime['geom'] = gpd.points_from_xy(crime.bcsrgclng, crime.bcsrgclat)\n",
    "crime = crime.drop(columns=['bcsrgclng', 'bcsrgclat'])\n",
    "crime['geom'] = crime['geom'].apply(lambda x: WKTElement(x.wkt, srid=srid))"
   ]
  },
  {
   "cell_type": "markdown",
   "id": "309dc643",
   "metadata": {},
   "source": [
    "Create schema"
   ]
  },
  {
   "cell_type": "code",
   "execution_count": 31,
   "id": "14c7febb",
   "metadata": {},
   "outputs": [],
   "source": [
    "conn.execute(text(\"\"\"\n",
    "DROP TABLE IF EXISTS crime;\n",
    "CREATE TABLE crime (\n",
    "    bcsrgrp VARCHAR(100),\n",
    "    locsurb VARCHAR(100), \n",
    "    locpcode INT,\n",
    "    incyear INT,\n",
    "    incmonth VARCHAR(15),\n",
    "    incday VARCHAR(10),\n",
    "    geom GEOMETRY(POINT, 4326)\n",
    ");\n",
    "\"\"\"));"
   ]
  },
  {
   "cell_type": "code",
   "execution_count": 32,
   "id": "b5cc15ac",
   "metadata": {},
   "outputs": [
    {
     "data": {
      "text/plain": [
       "605"
      ]
     },
     "execution_count": 32,
     "metadata": {},
     "output_type": "execute_result"
    }
   ],
   "source": [
    "crime.to_sql('crime', conn, if_exists='append', index=False, dtype={'geom': Geometry('POINT', srid)})"
   ]
  },
  {
   "cell_type": "code",
   "execution_count": 33,
   "id": "02167ca1",
   "metadata": {},
   "outputs": [
    {
     "name": "stdout",
     "output_type": "stream",
     "text": [
      "359\n"
     ]
    }
   ],
   "source": [
    "result = query(conn, text(\"\"\"\n",
    "    SELECT r.sa2_name, COUNT(*) \n",
    "    FROM regions r\n",
    "        JOIN crime c ON ST_Contains(r.geom, c.geom)\n",
    "    GROUP BY r.sa2_name\n",
    "    ORDER BY count(*) DESC\n",
    "\"\"\"))\n",
    "\n",
    "crime_per_region = dict.fromkeys(regions_arr, 0)\n",
    "for i, row in result.iterrows():\n",
    "    region, count = row.values\n",
    "    if region in regions_arr:\n",
    "        crime_per_region[region] = count\n",
    "    \n",
    "zscores = zscore(list(crime_per_region.values()))\n",
    "crime_zscores = dict(zip(crime_per_region.keys(), zscores))\n",
    "print(len(crime_zscores))"
   ]
  },
  {
   "cell_type": "markdown",
   "id": "76f3ea42",
   "metadata": {},
   "source": [
    "New Scores:"
   ]
  },
  {
   "cell_type": "code",
   "execution_count": 34,
   "id": "62b797f6",
   "metadata": {},
   "outputs": [
    {
     "name": "stdout",
     "output_type": "stream",
     "text": [
      "359\n"
     ]
    }
   ],
   "source": [
    "new_scores = dict()\n",
    "for region in regions_arr:\n",
    "    sum = 0\n",
    "    try:\n",
    "        sum += retail_zscores.get(region)\n",
    "        sum += health_zscores.get(region)\n",
    "        sum += stops_zscores.get(region)\n",
    "        sum += polls_zscores.get(region)\n",
    "        sum += schools_zscores.get(region)\n",
    "        sum -= crash_zscores.get(region)\n",
    "        sum -= crime_zscores.get(region)\n",
    "    except TypeError as e:\n",
    "        print(e)\n",
    "        continue\n",
    "    new_scores[region] = 1 / (1 + math.exp(-sum))\n",
    "\n",
    "print(len(new_scores))"
   ]
  },
  {
   "cell_type": "markdown",
   "id": "d7b7219c",
   "metadata": {},
   "source": [
    "Graph for New Scores:"
   ]
  },
  {
   "cell_type": "code",
   "execution_count": 35,
   "id": "27cd23fa",
   "metadata": {},
   "outputs": [],
   "source": [
    "import plotly.express as px"
   ]
  },
  {
   "cell_type": "code",
   "execution_count": 50,
   "id": "a5c4576b",
   "metadata": {},
   "outputs": [],
   "source": [
    "sorted_scores = dict(sorted(new_scores.items(), key=lambda x: x[1]))\n",
    "df = pd.DataFrame(sorted_scores.items(), columns=[\"SA2 Regions\", \"Score\"])"
   ]
  },
  {
   "cell_type": "code",
   "execution_count": 53,
   "id": "b07d5f68",
   "metadata": {},
   "outputs": [
    {
     "data": {
      "application/vnd.plotly.v1+json": {
       "config": {
        "plotlyServerURL": "https://plot.ly"
       },
       "data": [
        {
         "alignmentgroup": "True",
         "hovertemplate": "SA2 Regions=%{x}<br>Score=%{marker.color}<extra></extra>",
         "legendgroup": "",
         "marker": {
          "color": [
           0.000003235860070090525,
           0.003055077748722754,
           0.0051578520826517415,
           0.006597527597736556,
           0.017634229528919514,
           0.02519682994618036,
           0.02886433793230287,
           0.032693557823083044,
           0.033949204217020065,
           0.03952587904200498,
           0.04215534478345577,
           0.04616141473942795,
           0.049951094146514684,
           0.061825904525000426,
           0.06744289655245975,
           0.06982656051778209,
           0.07435426354615908,
           0.07583851303022993,
           0.07588988019877904,
           0.07701313064421132,
           0.07973968121757005,
           0.08166797904700238,
           0.08622658829111783,
           0.08871206600773324,
           0.08912369072761606,
           0.09077504235831405,
           0.09126343441830045,
           0.09559513574182626,
           0.09634784164271883,
           0.09775982387443267,
           0.09858900936100291,
           0.10256625907673733,
           0.10299201430768662,
           0.10346934250045643,
           0.10413648564745494,
           0.10422276157752317,
           0.10650328072197816,
           0.10725165233635395,
           0.11006744408889929,
           0.11351612794732016,
           0.11455748293880018,
           0.11812500941034348,
           0.12265182078628248,
           0.12455165902497373,
           0.1254146973084581,
           0.12634992987935223,
           0.12858384906006767,
           0.1294531723327622,
           0.13365500878579803,
           0.1359573318245357,
           0.13757812589312884,
           0.13974676674196956,
           0.14035385372485581,
           0.14392709287360958,
           0.14575252853586823,
           0.14657854613137108,
           0.14816881233150087,
           0.14838035968403582,
           0.14881819271389948,
           0.15287101466802144,
           0.15344629220638714,
           0.15439695600857362,
           0.15600497480375133,
           0.15665719380766507,
           0.16386298659133947,
           0.16615661414300179,
           0.1663726884327645,
           0.16722226151484623,
           0.17095337178503395,
           0.1754973663906947,
           0.17700443224384105,
           0.17923256403980242,
           0.18030771206132973,
           0.18360302217317118,
           0.1860030068127218,
           0.19140883910284656,
           0.19177695085888094,
           0.1931615381222651,
           0.19704748974362873,
           0.19806421996739684,
           0.20025112627442,
           0.20045382709522339,
           0.2031340855933663,
           0.2039981034973639,
           0.20469998037249906,
           0.20569090116521063,
           0.2068805901181792,
           0.20941577474446807,
           0.2100572006067488,
           0.2167656410024189,
           0.2170062971067263,
           0.22401674846647732,
           0.2286370789569455,
           0.22927922178437485,
           0.23347942069571495,
           0.2341367616695978,
           0.2375883834218425,
           0.23994002131339187,
           0.2418188059892019,
           0.24393809441021236,
           0.24443245346302248,
           0.24450876033958635,
           0.24662352227462842,
           0.2485210377936178,
           0.2511699324067681,
           0.2591902363127721,
           0.25951236284403884,
           0.26225642391069176,
           0.2675421080131195,
           0.26889248120943815,
           0.27200238357103973,
           0.2733332989464705,
           0.27480349534590387,
           0.27848239448107515,
           0.27964664438023445,
           0.2803555093187801,
           0.2813674023438702,
           0.2836260015478118,
           0.286452873726888,
           0.29114348228386144,
           0.2927486912175518,
           0.2954430010774314,
           0.2954931941139529,
           0.30048536478803944,
           0.3014761511680612,
           0.30307599799342827,
           0.3042086673051626,
           0.3043654221445775,
           0.30638382906217554,
           0.3080579998506655,
           0.3092170818779442,
           0.3136727068242464,
           0.31970930390341407,
           0.3203962877067537,
           0.3220441944469082,
           0.3245174268675846,
           0.3284235774966545,
           0.3303845437753647,
           0.3328241295867426,
           0.3332732130644561,
           0.33642074027338764,
           0.33872012847052135,
           0.3451717034444198,
           0.3476773557205361,
           0.3487700436896543,
           0.35491821712406724,
           0.35662351082655924,
           0.35950670410317437,
           0.3639735354434497,
           0.3643542200128687,
           0.3647003463712098,
           0.3679524646052714,
           0.3727637292049988,
           0.3728633182260942,
           0.37893061350977014,
           0.3849870660635266,
           0.38568433493234777,
           0.3944367744585578,
           0.39555709755954843,
           0.40471750041104687,
           0.40535283380572845,
           0.4087944255021833,
           0.4119112784815509,
           0.4128308577534187,
           0.41343043101981847,
           0.41420406661901565,
           0.4149835285666569,
           0.4158274923535952,
           0.41880950273351764,
           0.4190843677164243,
           0.41957771622058915,
           0.42011617671513046,
           0.42308660956990857,
           0.42341203496701924,
           0.42501008370952525,
           0.42747605282432405,
           0.4449925767493092,
           0.4451273529902521,
           0.4470221248980863,
           0.4477213273395007,
           0.45023402439586213,
           0.4532275330118261,
           0.4594934340057512,
           0.46403418193086987,
           0.46441330704395006,
           0.46655089253230503,
           0.4720427028260217,
           0.4762257373250971,
           0.48125154276998444,
           0.49034786076954273,
           0.49103521756936896,
           0.49259271191444437,
           0.4986885817982422,
           0.5013226030815721,
           0.5049033713435352,
           0.5110754271613441,
           0.5122077973073299,
           0.5128665361900804,
           0.5182783874128379,
           0.5187293924011641,
           0.5204026181631248,
           0.5222820330075532,
           0.5229426801271007,
           0.5255078804947831,
           0.5256134922361699,
           0.5269422213118778,
           0.53323085977503,
           0.5338181607266598,
           0.5350366352182998,
           0.5352685611275767,
           0.5360058703119659,
           0.5366539908023651,
           0.5414776846901604,
           0.5433338712290006,
           0.5534240038043666,
           0.5559544197378367,
           0.5566641471083348,
           0.5637822725724869,
           0.5693912324645152,
           0.5697450982294338,
           0.5710541811992423,
           0.5753765119738814,
           0.5766529022498669,
           0.577141477798269,
           0.5833920495149834,
           0.5874581082208377,
           0.5875952565074597,
           0.5891789220335659,
           0.5918777208635605,
           0.5953959335952074,
           0.595399513630596,
           0.6018276666858229,
           0.6018476859014645,
           0.6042400509373586,
           0.6072056000887777,
           0.614000697377396,
           0.614444084743355,
           0.619173495081633,
           0.6218219819454207,
           0.6241275184954003,
           0.6291958878120727,
           0.63385219968545,
           0.6352746200435414,
           0.6360103546757545,
           0.6367332501344525,
           0.6410365198090295,
           0.641432496247302,
           0.641579979789947,
           0.644302945636687,
           0.6446943918715811,
           0.6497475291828337,
           0.6546704747116672,
           0.6576061702881248,
           0.6587278637111975,
           0.6599540259548795,
           0.6606056391373969,
           0.6612632447211425,
           0.6744787619843043,
           0.6759588538059694,
           0.6789331308508707,
           0.6812193203778544,
           0.6822504088974245,
           0.6909340619383678,
           0.6925595062244001,
           0.6951020248246865,
           0.696334867731741,
           0.696936504348728,
           0.6973586277077083,
           0.6975845389148182,
           0.701326298339517,
           0.7040943185692065,
           0.7113072428675314,
           0.7166237186182656,
           0.7219490780001548,
           0.7252555176398444,
           0.7283335658758985,
           0.7335434469573625,
           0.7354973058866896,
           0.7373673964126818,
           0.7387385484916911,
           0.7453161083204768,
           0.7464921044126328,
           0.7481002075363422,
           0.7491169039623382,
           0.7499721746821312,
           0.7519457717931816,
           0.7547826637633814,
           0.7558385446420289,
           0.7698927141594042,
           0.7781728201076288,
           0.7816837443656214,
           0.7838037875065837,
           0.7875068874959126,
           0.7892226639673873,
           0.7918119433097673,
           0.7946414250104686,
           0.794651891785567,
           0.7971017263113291,
           0.7978199000882094,
           0.8011989949770163,
           0.8017112699121131,
           0.8165437008432076,
           0.818839227784928,
           0.8189639049578825,
           0.8281333704896844,
           0.8350967912598869,
           0.8360978720828713,
           0.8475614680393442,
           0.8496891053435833,
           0.8586595351702258,
           0.8666407974070957,
           0.8829069920008813,
           0.8888467605151951,
           0.8892829218252015,
           0.8905575703847657,
           0.8911734772680976,
           0.8916818899623321,
           0.8935168656998499,
           0.8967415102011653,
           0.9003825882281462,
           0.9062403674763058,
           0.907547703703893,
           0.9118511396307067,
           0.9138375726239886,
           0.9148915555105459,
           0.9175584395175406,
           0.9199706382111267,
           0.9204949376089989,
           0.9356256383243374,
           0.940527968903325,
           0.9419194571506209,
           0.9432165297365345,
           0.9434605384104038,
           0.9441893854456737,
           0.9444273230696527,
           0.9469814356867823,
           0.949468980488076,
           0.9549372245773305,
           0.9561975449082915,
           0.9570485221839876,
           0.9642923482350585,
           0.9646924603065329,
           0.9660163139313139,
           0.9699301399870227,
           0.9705154663971404,
           0.9711481550168927,
           0.9723504710178332,
           0.9735759487756153,
           0.9748708435547785,
           0.9778196911564028,
           0.9789421640343493,
           0.9798209701266303,
           0.9895743981936062,
           0.9926248888146655,
           0.9947274890373501,
           0.9969541258532595,
           0.9976113677101888,
           0.9999845217781551,
           0.9999999999999913
          ],
          "coloraxis": "coloraxis",
          "pattern": {
           "shape": ""
          }
         },
         "name": "",
         "offsetgroup": "",
         "orientation": "v",
         "showlegend": false,
         "textposition": "auto",
         "type": "bar",
         "x": [
          "Potts Point - Woolloomooloo",
          "Redfern",
          "Parramatta - South",
          "Surry Hills",
          "Pyrmont",
          "Homebush",
          "Waterloo",
          "Mascot",
          "Summerland Point - Gwandalan",
          "Kariong",
          "Ashfield - North",
          "Erskineville - Alexandria",
          "Canterbury - South",
          "Darlinghurst",
          "Wentworth Point - Sydney Olympic Park",
          "Botany",
          "Wolli Creek",
          "Zetland",
          "Bargo",
          "Fairfield - West",
          "Acacia Gardens",
          "Warragamba - Silverdale",
          "Ryde - South",
          "Narara",
          "Ultimo",
          "Rhodes",
          "Rosehill - Harris Park",
          "Casula",
          "Kingsford",
          "Concord West - North Strathfield",
          "Greenacre - South",
          "Edmondson Park",
          "Point Clare - Koolewong",
          "Auburn - North",
          "Liverpool - West",
          "Lilli Pilli - Port Hacking - Dolans Bay",
          "Heathcote - Waterfall",
          "Saratoga - Davistown",
          "Chippendale",
          "Blue Haven - San Remo",
          "Collaroy - Collaroy Plateau",
          "Arncliffe - Bardwell Valley",
          "Woronora Heights",
          "Blacktown - South",
          "North Narrabeen - Warriewood (South)",
          "Kingsgrove - North",
          "Wentworth Falls",
          "Wiley Park",
          "Maroubra - West",
          "Edensor Park",
          "Glebe - Forest Lodge",
          "Bilpin - Colo - St Albans",
          "Dee Why (South) - North Curl Curl",
          "Granville - Clyde",
          "South Coogee",
          "Toukley - Norah Head",
          "Berala",
          "Artarmon",
          "Niagara Park - Lisarow",
          "Bexley - North",
          "Warwick Farm",
          "Strathfield South",
          "Budgewoi - Buff Point - Halekulani",
          "Pagewood - Hillsdale - Daceyville",
          "Castle Hill - West",
          "Hoxton Park - Carnes Hill - Horningsea Park",
          "Spring Farm",
          "Narrabeen - Wheeler Heights",
          "Erskine Park",
          "Colyton - Oxley Park",
          "Denistone",
          "Monterey - Brighton-le-Sands - Kyeemagh",
          "Bondi Beach - North Bondi",
          "Panania (North) - Milperra",
          "Cecil Hills",
          "Schofields (West) - Colebee",
          "Wahroonga (West) - Waitara",
          "Rockdale - Banksia",
          "Blacktown - West",
          "Lake Munmorah - Mannering Park",
          "Denham Court - Bardia",
          "Rosebery - Beaconsfield",
          "Greenfield Park - Prairiewood",
          "Wentworthville - Westmead",
          "Beacon Hill - Narraweena",
          "Toongabbie - West",
          "Petersham - Stanmore",
          "Sans Souci - Ramsgate",
          "Caringbah South",
          "Oran Park",
          "Jordan Springs - Llandilo",
          "Regents Park",
          "Glendenning - Dean Park",
          "Horsley Park - Kemps Creek",
          "Seven Hills - Prospect",
          "Lawson - Hazelbrook - Linden",
          "Eastlakes",
          "Dover Heights",
          "Winston Hills",
          "Lidcombe",
          "Yagoona - Birrong",
          "Fairfield",
          "Marsden Park - Shanes Park",
          "Bankstown - North",
          "Harrington Park",
          "Woolooware - Burraneer",
          "Kellyville - West",
          "Newport - Bilgola",
          "Cromer",
          "West Hoxton - Middleton Grange",
          "Putney",
          "Caringbah",
          "Croydon Park - Enfield",
          "Dee Why - North",
          "Berowra - Brooklyn - Cowan",
          "Malabar - La Perouse",
          "Greenacre - North",
          "The Entrance",
          "Paddington - Moore Park",
          "Bayview - Elanora Heights",
          "Roselands",
          "Lurnea - Cartwright",
          "Pemulwuy - Greystanes (North)",
          "Forestville - Killarney Heights",
          "West Ryde - Meadowbank",
          "Loftus - Yarrawarrah",
          "North Kellyville",
          "Hinchinbrook",
          "Matraville - Chifley",
          "Glenfield",
          "Pendle Hill - Girraween",
          "Mortdale - Oatley",
          "Kincumber - Picketts Valley",
          "St Johns Park - Wakeley",
          "Penshurst",
          "Camperdown - Darlington",
          "Liverpool - East",
          "Gladesville - Huntleys Point",
          "Schofields - East",
          "Punchbowl",
          "Box Head - MacMasters Beach",
          "Picton - Tahmoor - Buxton",
          "Fairfield - East",
          "Yarramundi - Londonderry",
          "Merrylands - Holroyd",
          "Wyong",
          "Mosman - North",
          "Narwee - Beverly Hills",
          "South Wentworthville",
          "Avoca Beach - Copacabana",
          "Ourimbah - Fountaindale",
          "Prestons",
          "Hurstville - North",
          "Castle Hill - South",
          "Castle Hill - East",
          "Lakemba",
          "Canterbury (North) - Ashbury",
          "Marrickville - North",
          "Cabramatta West - Mount Pritchard",
          "Neutral Bay - Kirribilli",
          "Sydenham - Tempe - St Peters",
          "Green Valley",
          "Douglas Park - Appin",
          "Illawong - Alfords Point",
          "Auburn - Central",
          "Annandale (NSW)",
          "Lilyfield - Rozelle",
          "Crows Nest - Waverton",
          "Kogarah Bay - Carlton - Allawah",
          "Bexley - South",
          "Chatswood (West) - Lane Cove North",
          "Smithfield - Wetherill Park",
          "Greystanes - South",
          "Maroubra - South",
          "North Rocks",
          "Campsie - North",
          "Belrose",
          "Cremorne - Cammeray",
          "Willoughby",
          "Guildford West - Merrylands West",
          "Bossley Park - Abbotsbury",
          "Glenwood",
          "Kogarah",
          "Auburn - South",
          "Blackheath - Megalong Valley",
          "Mount Druitt - Whalan",
          "Bankstown - South",
          "St Clair",
          "Cambridge Park",
          "Kensington (NSW)",
          "Five Dock - Abbotsford",
          "Maroubra - North",
          "Coogee - Clovelly",
          "Richmond - Clarendon",
          "Macquarie Fields",
          "Oatley - Hurstville Grove",
          "Jamisontown - South Penrith",
          "Windsor - Bligh Park",
          "Sylvania - Taren Point",
          "Riverwood",
          "North Parramatta",
          "Glenhaven",
          "Stanhope Gardens - Parklea",
          "Carlingford - East",
          "Woy Woy - Blackwall",
          "Wyoming",
          "Strathfield - East",
          "Bondi - Tamarama - Bronte",
          "Condell Park",
          "Chipping Norton - Moorebank",
          "Canley Vale - Canley Heights",
          "Gymea - Grays Point",
          "Lane Cove",
          "Hassall Grove - Plumpton",
          "Balmain",
          "Burwood (NSW)",
          "Currans Hill",
          "Bellevue Hill",
          "Riverstone",
          "Revesby",
          "Cobbitty - Bringelly",
          "Newtown (NSW)",
          "Carlingford - West",
          "Quakers Hill",
          "Chester Hill - Sefton",
          "Panania (South) - Picnic Point",
          "Drummoyne - Rodd Point",
          "Croydon",
          "Marrickville - South",
          "Box Hill - Nelson",
          "Umina - Booker Bay - Patonga",
          "Dulwich Hill - Lewisham",
          "Kellyville Ridge - The Ponds",
          "Manly Vale - Allambie Heights",
          "Woollahra",
          "Avalon - Palm Beach",
          "Manly - Fairlight",
          "Kellyville - East",
          "Rouse Hill - Beaumont Hills",
          "Gorokan - Kanwal - Charmhaven",
          "Campsie - South",
          "Elderslie - Narellan",
          "Bonnyrigg Heights - Bonnyrigg",
          "Guildford - South Granville",
          "Terrey Hills - Duffys Forest",
          "Rooty Hill - Minchinbury",
          "Cronulla - Kurnell - Bundeena",
          "Northmead",
          "Ashcroft - Busby - Miller",
          "Mosman - South",
          "Mount Annan",
          "Ashfield - South",
          "Hunters Hill - Woolwich",
          "South Hurstville - Blakehurst",
          "Epping (NSW) - West",
          "Tuggerah - Kangy Angy",
          "Leichhardt",
          "Peakhurst - Lugarno",
          "Randwick - North",
          "Bateau Bay - Killarney Vale",
          "North Ryde - East Ryde",
          "North Sydney - Lavender Bay",
          "Cabramatta - Lansvale",
          "Oatlands - Dundas Valley",
          "Sutherland - Kirrawee",
          "Calga - Kulnura",
          "Epping (East) - North Epping",
          "Jilliby - Yarramalong",
          "Silverwater - Newington",
          "Castle Hill - North",
          "Rose Bay - Vaucluse - Watsons Bay",
          "Concord - Mortlake - Cabarita",
          "Randwick - South",
          "Padstow",
          "Bass Hill - Georges Hall",
          "Terrigal - North Avoca",
          "Belmore - Belfield",
          "Minto - St Andrews",
          "Engadine",
          "Wamberal - Forresters Beach",
          "Strathfield - West",
          "Gledswood Hills - Gregory Hills",
          "Cranebrook - Castlereagh",
          "Glenmore Park - Regentville",
          "Bidwill - Hebersham - Emerton",
          "Leppington - Catherine Field",
          "Balgowlah - Clontarf - Seaforth",
          "Hornsby - East",
          "Mulgoa - Luddenham - Orchard Hills",
          "The Oaks - Oakdale",
          "St Marys - North St Marys",
          "Mona Vale - Warriewood (North)",
          "Toongabbie - Constitution Hill",
          "Ingleburn",
          "Sydney (South) - Haymarket",
          "Pennant Hills - Cheltenham",
          "Ryde - North",
          "Cherrybrook",
          "Blacktown (North) - Marayong",
          "Rosemeadow - Glen Alpine",
          "Doonside - Woodcroft",
          "Leumeah - Minto Heights",
          "Castle Hill - Central",
          "Earlwood",
          "St Leonards - Naremburn",
          "Ermington - Rydalmere",
          "Macquarie Park - Marsfield",
          "Castle Cove - Northbridge",
          "Camden - Ellis Lane",
          "Hurstville - Central",
          "Galston - Laughtondale",
          "Gosford - Springfield",
          "Miranda - Yowie Bay",
          "Kingsgrove (South) - Bardwell Park",
          "Lethbridge Park - Tregear",
          "Haberfield - Summer Hill",
          "Kingswood - Werrington",
          "Pitt Town - McGraths Hill",
          "Freshwater - Brookvale",
          "Austral - Greendale",
          "Blacktown (East) - Kings Park",
          "Bradbury - Wedderburn",
          "Oyster Bay - Como - Jannali",
          "West Pennant Hills",
          "Baulkham Hills - East",
          "Chittaway Bay - Tumbi Umbi",
          "Greenwich - Riverview",
          "Warnervale - Wadalba",
          "Holsworthy - Wattle Grove",
          "Emu Plains - Leonay",
          "Menai - Lucas Heights - Woronora",
          "Penrith",
          "Double Bay - Darling Point",
          "Katoomba - Leura",
          "Hornsby - West",
          "Eastwood",
          "Claymore - Eagle Vale - Raby",
          "Springwood - Winmalee",
          "Normanhurst - Thornleigh - Westleigh",
          "Blaxland - Warrimoo - Lapstone",
          "St Ives",
          "Wahroonga (East) - Warrawee",
          "Lalor Park - Kings Langley",
          "Frenchs Forest - Oxford Falls",
          "Asquith - Mount Colah",
          "Lindfield - Roseville",
          "Chullora",
          "Bondi Junction - Waverly",
          "Erina - Green Point",
          "Gordon - Killara",
          "Campbelltown - Woodbine",
          "Kurrajong Heights - Ebenezer",
          "Pymble",
          "Turramurra",
          "Chatswood - East",
          "Parramatta - North",
          "Baulkham Hills (West) - Bella Vista",
          "Dural - Kenthurst - Wisemans Ferry",
          "Sydney (North) - Millers Point"
         ],
         "xaxis": "x",
         "y": [
          0.000003235860070090525,
          0.003055077748722754,
          0.0051578520826517415,
          0.006597527597736556,
          0.017634229528919514,
          0.02519682994618036,
          0.02886433793230287,
          0.032693557823083044,
          0.033949204217020065,
          0.03952587904200498,
          0.04215534478345577,
          0.04616141473942795,
          0.049951094146514684,
          0.061825904525000426,
          0.06744289655245975,
          0.06982656051778209,
          0.07435426354615908,
          0.07583851303022993,
          0.07588988019877904,
          0.07701313064421132,
          0.07973968121757005,
          0.08166797904700238,
          0.08622658829111783,
          0.08871206600773324,
          0.08912369072761606,
          0.09077504235831405,
          0.09126343441830045,
          0.09559513574182626,
          0.09634784164271883,
          0.09775982387443267,
          0.09858900936100291,
          0.10256625907673733,
          0.10299201430768662,
          0.10346934250045643,
          0.10413648564745494,
          0.10422276157752317,
          0.10650328072197816,
          0.10725165233635395,
          0.11006744408889929,
          0.11351612794732016,
          0.11455748293880018,
          0.11812500941034348,
          0.12265182078628248,
          0.12455165902497373,
          0.1254146973084581,
          0.12634992987935223,
          0.12858384906006767,
          0.1294531723327622,
          0.13365500878579803,
          0.1359573318245357,
          0.13757812589312884,
          0.13974676674196956,
          0.14035385372485581,
          0.14392709287360958,
          0.14575252853586823,
          0.14657854613137108,
          0.14816881233150087,
          0.14838035968403582,
          0.14881819271389948,
          0.15287101466802144,
          0.15344629220638714,
          0.15439695600857362,
          0.15600497480375133,
          0.15665719380766507,
          0.16386298659133947,
          0.16615661414300179,
          0.1663726884327645,
          0.16722226151484623,
          0.17095337178503395,
          0.1754973663906947,
          0.17700443224384105,
          0.17923256403980242,
          0.18030771206132973,
          0.18360302217317118,
          0.1860030068127218,
          0.19140883910284656,
          0.19177695085888094,
          0.1931615381222651,
          0.19704748974362873,
          0.19806421996739684,
          0.20025112627442,
          0.20045382709522339,
          0.2031340855933663,
          0.2039981034973639,
          0.20469998037249906,
          0.20569090116521063,
          0.2068805901181792,
          0.20941577474446807,
          0.2100572006067488,
          0.2167656410024189,
          0.2170062971067263,
          0.22401674846647732,
          0.2286370789569455,
          0.22927922178437485,
          0.23347942069571495,
          0.2341367616695978,
          0.2375883834218425,
          0.23994002131339187,
          0.2418188059892019,
          0.24393809441021236,
          0.24443245346302248,
          0.24450876033958635,
          0.24662352227462842,
          0.2485210377936178,
          0.2511699324067681,
          0.2591902363127721,
          0.25951236284403884,
          0.26225642391069176,
          0.2675421080131195,
          0.26889248120943815,
          0.27200238357103973,
          0.2733332989464705,
          0.27480349534590387,
          0.27848239448107515,
          0.27964664438023445,
          0.2803555093187801,
          0.2813674023438702,
          0.2836260015478118,
          0.286452873726888,
          0.29114348228386144,
          0.2927486912175518,
          0.2954430010774314,
          0.2954931941139529,
          0.30048536478803944,
          0.3014761511680612,
          0.30307599799342827,
          0.3042086673051626,
          0.3043654221445775,
          0.30638382906217554,
          0.3080579998506655,
          0.3092170818779442,
          0.3136727068242464,
          0.31970930390341407,
          0.3203962877067537,
          0.3220441944469082,
          0.3245174268675846,
          0.3284235774966545,
          0.3303845437753647,
          0.3328241295867426,
          0.3332732130644561,
          0.33642074027338764,
          0.33872012847052135,
          0.3451717034444198,
          0.3476773557205361,
          0.3487700436896543,
          0.35491821712406724,
          0.35662351082655924,
          0.35950670410317437,
          0.3639735354434497,
          0.3643542200128687,
          0.3647003463712098,
          0.3679524646052714,
          0.3727637292049988,
          0.3728633182260942,
          0.37893061350977014,
          0.3849870660635266,
          0.38568433493234777,
          0.3944367744585578,
          0.39555709755954843,
          0.40471750041104687,
          0.40535283380572845,
          0.4087944255021833,
          0.4119112784815509,
          0.4128308577534187,
          0.41343043101981847,
          0.41420406661901565,
          0.4149835285666569,
          0.4158274923535952,
          0.41880950273351764,
          0.4190843677164243,
          0.41957771622058915,
          0.42011617671513046,
          0.42308660956990857,
          0.42341203496701924,
          0.42501008370952525,
          0.42747605282432405,
          0.4449925767493092,
          0.4451273529902521,
          0.4470221248980863,
          0.4477213273395007,
          0.45023402439586213,
          0.4532275330118261,
          0.4594934340057512,
          0.46403418193086987,
          0.46441330704395006,
          0.46655089253230503,
          0.4720427028260217,
          0.4762257373250971,
          0.48125154276998444,
          0.49034786076954273,
          0.49103521756936896,
          0.49259271191444437,
          0.4986885817982422,
          0.5013226030815721,
          0.5049033713435352,
          0.5110754271613441,
          0.5122077973073299,
          0.5128665361900804,
          0.5182783874128379,
          0.5187293924011641,
          0.5204026181631248,
          0.5222820330075532,
          0.5229426801271007,
          0.5255078804947831,
          0.5256134922361699,
          0.5269422213118778,
          0.53323085977503,
          0.5338181607266598,
          0.5350366352182998,
          0.5352685611275767,
          0.5360058703119659,
          0.5366539908023651,
          0.5414776846901604,
          0.5433338712290006,
          0.5534240038043666,
          0.5559544197378367,
          0.5566641471083348,
          0.5637822725724869,
          0.5693912324645152,
          0.5697450982294338,
          0.5710541811992423,
          0.5753765119738814,
          0.5766529022498669,
          0.577141477798269,
          0.5833920495149834,
          0.5874581082208377,
          0.5875952565074597,
          0.5891789220335659,
          0.5918777208635605,
          0.5953959335952074,
          0.595399513630596,
          0.6018276666858229,
          0.6018476859014645,
          0.6042400509373586,
          0.6072056000887777,
          0.614000697377396,
          0.614444084743355,
          0.619173495081633,
          0.6218219819454207,
          0.6241275184954003,
          0.6291958878120727,
          0.63385219968545,
          0.6352746200435414,
          0.6360103546757545,
          0.6367332501344525,
          0.6410365198090295,
          0.641432496247302,
          0.641579979789947,
          0.644302945636687,
          0.6446943918715811,
          0.6497475291828337,
          0.6546704747116672,
          0.6576061702881248,
          0.6587278637111975,
          0.6599540259548795,
          0.6606056391373969,
          0.6612632447211425,
          0.6744787619843043,
          0.6759588538059694,
          0.6789331308508707,
          0.6812193203778544,
          0.6822504088974245,
          0.6909340619383678,
          0.6925595062244001,
          0.6951020248246865,
          0.696334867731741,
          0.696936504348728,
          0.6973586277077083,
          0.6975845389148182,
          0.701326298339517,
          0.7040943185692065,
          0.7113072428675314,
          0.7166237186182656,
          0.7219490780001548,
          0.7252555176398444,
          0.7283335658758985,
          0.7335434469573625,
          0.7354973058866896,
          0.7373673964126818,
          0.7387385484916911,
          0.7453161083204768,
          0.7464921044126328,
          0.7481002075363422,
          0.7491169039623382,
          0.7499721746821312,
          0.7519457717931816,
          0.7547826637633814,
          0.7558385446420289,
          0.7698927141594042,
          0.7781728201076288,
          0.7816837443656214,
          0.7838037875065837,
          0.7875068874959126,
          0.7892226639673873,
          0.7918119433097673,
          0.7946414250104686,
          0.794651891785567,
          0.7971017263113291,
          0.7978199000882094,
          0.8011989949770163,
          0.8017112699121131,
          0.8165437008432076,
          0.818839227784928,
          0.8189639049578825,
          0.8281333704896844,
          0.8350967912598869,
          0.8360978720828713,
          0.8475614680393442,
          0.8496891053435833,
          0.8586595351702258,
          0.8666407974070957,
          0.8829069920008813,
          0.8888467605151951,
          0.8892829218252015,
          0.8905575703847657,
          0.8911734772680976,
          0.8916818899623321,
          0.8935168656998499,
          0.8967415102011653,
          0.9003825882281462,
          0.9062403674763058,
          0.907547703703893,
          0.9118511396307067,
          0.9138375726239886,
          0.9148915555105459,
          0.9175584395175406,
          0.9199706382111267,
          0.9204949376089989,
          0.9356256383243374,
          0.940527968903325,
          0.9419194571506209,
          0.9432165297365345,
          0.9434605384104038,
          0.9441893854456737,
          0.9444273230696527,
          0.9469814356867823,
          0.949468980488076,
          0.9549372245773305,
          0.9561975449082915,
          0.9570485221839876,
          0.9642923482350585,
          0.9646924603065329,
          0.9660163139313139,
          0.9699301399870227,
          0.9705154663971404,
          0.9711481550168927,
          0.9723504710178332,
          0.9735759487756153,
          0.9748708435547785,
          0.9778196911564028,
          0.9789421640343493,
          0.9798209701266303,
          0.9895743981936062,
          0.9926248888146655,
          0.9947274890373501,
          0.9969541258532595,
          0.9976113677101888,
          0.9999845217781551,
          0.9999999999999913
         ],
         "yaxis": "y"
        }
       ],
       "layout": {
        "barmode": "relative",
        "coloraxis": {
         "colorbar": {
          "title": {
           "text": "Score"
          }
         },
         "colorscale": [
          [
           0,
           "#0d0887"
          ],
          [
           0.1111111111111111,
           "#46039f"
          ],
          [
           0.2222222222222222,
           "#7201a8"
          ],
          [
           0.3333333333333333,
           "#9c179e"
          ],
          [
           0.4444444444444444,
           "#bd3786"
          ],
          [
           0.5555555555555556,
           "#d8576b"
          ],
          [
           0.6666666666666666,
           "#ed7953"
          ],
          [
           0.7777777777777778,
           "#fb9f3a"
          ],
          [
           0.8888888888888888,
           "#fdca26"
          ],
          [
           1,
           "#f0f921"
          ]
         ]
        },
        "height": 600,
        "legend": {
         "tracegroupgap": 0
        },
        "template": {
         "data": {
          "bar": [
           {
            "error_x": {
             "color": "#2a3f5f"
            },
            "error_y": {
             "color": "#2a3f5f"
            },
            "marker": {
             "line": {
              "color": "#E5ECF6",
              "width": 0.5
             },
             "pattern": {
              "fillmode": "overlay",
              "size": 10,
              "solidity": 0.2
             }
            },
            "type": "bar"
           }
          ],
          "barpolar": [
           {
            "marker": {
             "line": {
              "color": "#E5ECF6",
              "width": 0.5
             },
             "pattern": {
              "fillmode": "overlay",
              "size": 10,
              "solidity": 0.2
             }
            },
            "type": "barpolar"
           }
          ],
          "carpet": [
           {
            "aaxis": {
             "endlinecolor": "#2a3f5f",
             "gridcolor": "white",
             "linecolor": "white",
             "minorgridcolor": "white",
             "startlinecolor": "#2a3f5f"
            },
            "baxis": {
             "endlinecolor": "#2a3f5f",
             "gridcolor": "white",
             "linecolor": "white",
             "minorgridcolor": "white",
             "startlinecolor": "#2a3f5f"
            },
            "type": "carpet"
           }
          ],
          "choropleth": [
           {
            "colorbar": {
             "outlinewidth": 0,
             "ticks": ""
            },
            "type": "choropleth"
           }
          ],
          "contour": [
           {
            "colorbar": {
             "outlinewidth": 0,
             "ticks": ""
            },
            "colorscale": [
             [
              0,
              "#0d0887"
             ],
             [
              0.1111111111111111,
              "#46039f"
             ],
             [
              0.2222222222222222,
              "#7201a8"
             ],
             [
              0.3333333333333333,
              "#9c179e"
             ],
             [
              0.4444444444444444,
              "#bd3786"
             ],
             [
              0.5555555555555556,
              "#d8576b"
             ],
             [
              0.6666666666666666,
              "#ed7953"
             ],
             [
              0.7777777777777778,
              "#fb9f3a"
             ],
             [
              0.8888888888888888,
              "#fdca26"
             ],
             [
              1,
              "#f0f921"
             ]
            ],
            "type": "contour"
           }
          ],
          "contourcarpet": [
           {
            "colorbar": {
             "outlinewidth": 0,
             "ticks": ""
            },
            "type": "contourcarpet"
           }
          ],
          "heatmap": [
           {
            "colorbar": {
             "outlinewidth": 0,
             "ticks": ""
            },
            "colorscale": [
             [
              0,
              "#0d0887"
             ],
             [
              0.1111111111111111,
              "#46039f"
             ],
             [
              0.2222222222222222,
              "#7201a8"
             ],
             [
              0.3333333333333333,
              "#9c179e"
             ],
             [
              0.4444444444444444,
              "#bd3786"
             ],
             [
              0.5555555555555556,
              "#d8576b"
             ],
             [
              0.6666666666666666,
              "#ed7953"
             ],
             [
              0.7777777777777778,
              "#fb9f3a"
             ],
             [
              0.8888888888888888,
              "#fdca26"
             ],
             [
              1,
              "#f0f921"
             ]
            ],
            "type": "heatmap"
           }
          ],
          "heatmapgl": [
           {
            "colorbar": {
             "outlinewidth": 0,
             "ticks": ""
            },
            "colorscale": [
             [
              0,
              "#0d0887"
             ],
             [
              0.1111111111111111,
              "#46039f"
             ],
             [
              0.2222222222222222,
              "#7201a8"
             ],
             [
              0.3333333333333333,
              "#9c179e"
             ],
             [
              0.4444444444444444,
              "#bd3786"
             ],
             [
              0.5555555555555556,
              "#d8576b"
             ],
             [
              0.6666666666666666,
              "#ed7953"
             ],
             [
              0.7777777777777778,
              "#fb9f3a"
             ],
             [
              0.8888888888888888,
              "#fdca26"
             ],
             [
              1,
              "#f0f921"
             ]
            ],
            "type": "heatmapgl"
           }
          ],
          "histogram": [
           {
            "marker": {
             "pattern": {
              "fillmode": "overlay",
              "size": 10,
              "solidity": 0.2
             }
            },
            "type": "histogram"
           }
          ],
          "histogram2d": [
           {
            "colorbar": {
             "outlinewidth": 0,
             "ticks": ""
            },
            "colorscale": [
             [
              0,
              "#0d0887"
             ],
             [
              0.1111111111111111,
              "#46039f"
             ],
             [
              0.2222222222222222,
              "#7201a8"
             ],
             [
              0.3333333333333333,
              "#9c179e"
             ],
             [
              0.4444444444444444,
              "#bd3786"
             ],
             [
              0.5555555555555556,
              "#d8576b"
             ],
             [
              0.6666666666666666,
              "#ed7953"
             ],
             [
              0.7777777777777778,
              "#fb9f3a"
             ],
             [
              0.8888888888888888,
              "#fdca26"
             ],
             [
              1,
              "#f0f921"
             ]
            ],
            "type": "histogram2d"
           }
          ],
          "histogram2dcontour": [
           {
            "colorbar": {
             "outlinewidth": 0,
             "ticks": ""
            },
            "colorscale": [
             [
              0,
              "#0d0887"
             ],
             [
              0.1111111111111111,
              "#46039f"
             ],
             [
              0.2222222222222222,
              "#7201a8"
             ],
             [
              0.3333333333333333,
              "#9c179e"
             ],
             [
              0.4444444444444444,
              "#bd3786"
             ],
             [
              0.5555555555555556,
              "#d8576b"
             ],
             [
              0.6666666666666666,
              "#ed7953"
             ],
             [
              0.7777777777777778,
              "#fb9f3a"
             ],
             [
              0.8888888888888888,
              "#fdca26"
             ],
             [
              1,
              "#f0f921"
             ]
            ],
            "type": "histogram2dcontour"
           }
          ],
          "mesh3d": [
           {
            "colorbar": {
             "outlinewidth": 0,
             "ticks": ""
            },
            "type": "mesh3d"
           }
          ],
          "parcoords": [
           {
            "line": {
             "colorbar": {
              "outlinewidth": 0,
              "ticks": ""
             }
            },
            "type": "parcoords"
           }
          ],
          "pie": [
           {
            "automargin": true,
            "type": "pie"
           }
          ],
          "scatter": [
           {
            "fillpattern": {
             "fillmode": "overlay",
             "size": 10,
             "solidity": 0.2
            },
            "type": "scatter"
           }
          ],
          "scatter3d": [
           {
            "line": {
             "colorbar": {
              "outlinewidth": 0,
              "ticks": ""
             }
            },
            "marker": {
             "colorbar": {
              "outlinewidth": 0,
              "ticks": ""
             }
            },
            "type": "scatter3d"
           }
          ],
          "scattercarpet": [
           {
            "marker": {
             "colorbar": {
              "outlinewidth": 0,
              "ticks": ""
             }
            },
            "type": "scattercarpet"
           }
          ],
          "scattergeo": [
           {
            "marker": {
             "colorbar": {
              "outlinewidth": 0,
              "ticks": ""
             }
            },
            "type": "scattergeo"
           }
          ],
          "scattergl": [
           {
            "marker": {
             "colorbar": {
              "outlinewidth": 0,
              "ticks": ""
             }
            },
            "type": "scattergl"
           }
          ],
          "scattermapbox": [
           {
            "marker": {
             "colorbar": {
              "outlinewidth": 0,
              "ticks": ""
             }
            },
            "type": "scattermapbox"
           }
          ],
          "scatterpolar": [
           {
            "marker": {
             "colorbar": {
              "outlinewidth": 0,
              "ticks": ""
             }
            },
            "type": "scatterpolar"
           }
          ],
          "scatterpolargl": [
           {
            "marker": {
             "colorbar": {
              "outlinewidth": 0,
              "ticks": ""
             }
            },
            "type": "scatterpolargl"
           }
          ],
          "scatterternary": [
           {
            "marker": {
             "colorbar": {
              "outlinewidth": 0,
              "ticks": ""
             }
            },
            "type": "scatterternary"
           }
          ],
          "surface": [
           {
            "colorbar": {
             "outlinewidth": 0,
             "ticks": ""
            },
            "colorscale": [
             [
              0,
              "#0d0887"
             ],
             [
              0.1111111111111111,
              "#46039f"
             ],
             [
              0.2222222222222222,
              "#7201a8"
             ],
             [
              0.3333333333333333,
              "#9c179e"
             ],
             [
              0.4444444444444444,
              "#bd3786"
             ],
             [
              0.5555555555555556,
              "#d8576b"
             ],
             [
              0.6666666666666666,
              "#ed7953"
             ],
             [
              0.7777777777777778,
              "#fb9f3a"
             ],
             [
              0.8888888888888888,
              "#fdca26"
             ],
             [
              1,
              "#f0f921"
             ]
            ],
            "type": "surface"
           }
          ],
          "table": [
           {
            "cells": {
             "fill": {
              "color": "#EBF0F8"
             },
             "line": {
              "color": "white"
             }
            },
            "header": {
             "fill": {
              "color": "#C8D4E3"
             },
             "line": {
              "color": "white"
             }
            },
            "type": "table"
           }
          ]
         },
         "layout": {
          "annotationdefaults": {
           "arrowcolor": "#2a3f5f",
           "arrowhead": 0,
           "arrowwidth": 1
          },
          "autotypenumbers": "strict",
          "coloraxis": {
           "colorbar": {
            "outlinewidth": 0,
            "ticks": ""
           }
          },
          "colorscale": {
           "diverging": [
            [
             0,
             "#8e0152"
            ],
            [
             0.1,
             "#c51b7d"
            ],
            [
             0.2,
             "#de77ae"
            ],
            [
             0.3,
             "#f1b6da"
            ],
            [
             0.4,
             "#fde0ef"
            ],
            [
             0.5,
             "#f7f7f7"
            ],
            [
             0.6,
             "#e6f5d0"
            ],
            [
             0.7,
             "#b8e186"
            ],
            [
             0.8,
             "#7fbc41"
            ],
            [
             0.9,
             "#4d9221"
            ],
            [
             1,
             "#276419"
            ]
           ],
           "sequential": [
            [
             0,
             "#0d0887"
            ],
            [
             0.1111111111111111,
             "#46039f"
            ],
            [
             0.2222222222222222,
             "#7201a8"
            ],
            [
             0.3333333333333333,
             "#9c179e"
            ],
            [
             0.4444444444444444,
             "#bd3786"
            ],
            [
             0.5555555555555556,
             "#d8576b"
            ],
            [
             0.6666666666666666,
             "#ed7953"
            ],
            [
             0.7777777777777778,
             "#fb9f3a"
            ],
            [
             0.8888888888888888,
             "#fdca26"
            ],
            [
             1,
             "#f0f921"
            ]
           ],
           "sequentialminus": [
            [
             0,
             "#0d0887"
            ],
            [
             0.1111111111111111,
             "#46039f"
            ],
            [
             0.2222222222222222,
             "#7201a8"
            ],
            [
             0.3333333333333333,
             "#9c179e"
            ],
            [
             0.4444444444444444,
             "#bd3786"
            ],
            [
             0.5555555555555556,
             "#d8576b"
            ],
            [
             0.6666666666666666,
             "#ed7953"
            ],
            [
             0.7777777777777778,
             "#fb9f3a"
            ],
            [
             0.8888888888888888,
             "#fdca26"
            ],
            [
             1,
             "#f0f921"
            ]
           ]
          },
          "colorway": [
           "#636efa",
           "#EF553B",
           "#00cc96",
           "#ab63fa",
           "#FFA15A",
           "#19d3f3",
           "#FF6692",
           "#B6E880",
           "#FF97FF",
           "#FECB52"
          ],
          "font": {
           "color": "#2a3f5f"
          },
          "geo": {
           "bgcolor": "white",
           "lakecolor": "white",
           "landcolor": "#E5ECF6",
           "showlakes": true,
           "showland": true,
           "subunitcolor": "white"
          },
          "hoverlabel": {
           "align": "left"
          },
          "hovermode": "closest",
          "mapbox": {
           "style": "light"
          },
          "paper_bgcolor": "white",
          "plot_bgcolor": "#E5ECF6",
          "polar": {
           "angularaxis": {
            "gridcolor": "white",
            "linecolor": "white",
            "ticks": ""
           },
           "bgcolor": "#E5ECF6",
           "radialaxis": {
            "gridcolor": "white",
            "linecolor": "white",
            "ticks": ""
           }
          },
          "scene": {
           "xaxis": {
            "backgroundcolor": "#E5ECF6",
            "gridcolor": "white",
            "gridwidth": 2,
            "linecolor": "white",
            "showbackground": true,
            "ticks": "",
            "zerolinecolor": "white"
           },
           "yaxis": {
            "backgroundcolor": "#E5ECF6",
            "gridcolor": "white",
            "gridwidth": 2,
            "linecolor": "white",
            "showbackground": true,
            "ticks": "",
            "zerolinecolor": "white"
           },
           "zaxis": {
            "backgroundcolor": "#E5ECF6",
            "gridcolor": "white",
            "gridwidth": 2,
            "linecolor": "white",
            "showbackground": true,
            "ticks": "",
            "zerolinecolor": "white"
           }
          },
          "shapedefaults": {
           "line": {
            "color": "#2a3f5f"
           }
          },
          "ternary": {
           "aaxis": {
            "gridcolor": "white",
            "linecolor": "white",
            "ticks": ""
           },
           "baxis": {
            "gridcolor": "white",
            "linecolor": "white",
            "ticks": ""
           },
           "bgcolor": "#E5ECF6",
           "caxis": {
            "gridcolor": "white",
            "linecolor": "white",
            "ticks": ""
           }
          },
          "title": {
           "x": 0.05
          },
          "xaxis": {
           "automargin": true,
           "gridcolor": "white",
           "linecolor": "white",
           "ticks": "",
           "title": {
            "standoff": 15
           },
           "zerolinecolor": "white",
           "zerolinewidth": 2
          },
          "yaxis": {
           "automargin": true,
           "gridcolor": "white",
           "linecolor": "white",
           "ticks": "",
           "title": {
            "standoff": 15
           },
           "zerolinecolor": "white",
           "zerolinewidth": 2
          }
         }
        },
        "title": {
         "text": "Score by Region"
        },
        "xaxis": {
         "anchor": "y",
         "domain": [
          0,
          1
         ],
         "title": {
          "text": "SA2 Regions"
         }
        },
        "yaxis": {
         "anchor": "x",
         "domain": [
          0,
          1
         ],
         "title": {
          "text": "Score"
         }
        }
       }
      }
     },
     "metadata": {},
     "output_type": "display_data"
    }
   ],
   "source": [
    "fig = px.bar(df, title=\"Score by Region\", x=\"SA2 Regions\", y=\"Score\", color='Score', height=600)\n",
    "fig.show()"
   ]
  },
  {
   "cell_type": "markdown",
   "id": "78b293e3",
   "metadata": {},
   "source": [
    "Income vs. Score Correlation:"
   ]
  },
  {
   "cell_type": "code",
   "execution_count": 55,
   "id": "526948b1",
   "metadata": {},
   "outputs": [],
   "source": [
    "result = query(conn, text(\"\"\"\n",
    "    SELECT sa2_name, median_income\n",
    "    FROM income\n",
    "    ORDER BY mean_income DESC\n",
    "\"\"\"))\n",
    "income_dict = dict.fromkeys(regions_arr, 0)\n",
    "for i, row in result.iterrows():\n",
    "    region, income = row.values\n",
    "    if region in regions_arr:\n",
    "        income_dict[region] = income\n",
    "\n",
    "x = []\n",
    "y = []\n",
    "for region in income_dict.keys():\n",
    "    if income_dict.get(region) != 0:\n",
    "        x.append(income_dict.get(region))\n",
    "        y.append(new_scores.get(region))\n",
    "\n",
    "df = pd.DataFrame({'Average income':x, 'Score':y})"
   ]
  },
  {
   "cell_type": "code",
   "execution_count": 56,
   "id": "831614d6",
   "metadata": {},
   "outputs": [
    {
     "data": {
      "application/vnd.plotly.v1+json": {
       "config": {
        "plotlyServerURL": "https://plot.ly"
       },
       "data": [
        {
         "hovertemplate": "Average income=%{marker.color}<br>Score=%{y}<extra></extra>",
         "legendgroup": "",
         "marker": {
          "color": [
           52450,
           48724,
           46228,
           48292,
           51999,
           54900,
           50106,
           53262,
           52812,
           51099,
           49903,
           53652,
           47126,
           53015,
           48361,
           49788,
           49047,
           49191,
           48251,
           51007,
           47230,
           51930,
           46693,
           52698,
           47821,
           51621,
           46551,
           51002,
           53867,
           46800,
           60028,
           58064,
           58157,
           56193,
           51414,
           57065,
           58263,
           63091,
           57162,
           55769,
           53808,
           47184,
           56404,
           58104,
           66086,
           49879,
           51582,
           54832,
           55922,
           61259,
           63303,
           59266,
           48935,
           56022,
           56165,
           52864,
           48720,
           55162,
           66933,
           53892,
           67860,
           66891,
           71676,
           83036,
           67002,
           73659,
           67312,
           69585,
           68116,
           64030,
           70842,
           80692,
           79006,
           79723,
           57807,
           50113,
           63227,
           59972,
           55170,
           72651,
           66128,
           75138,
           44857,
           53138,
           45552,
           52837,
           52768,
           44692,
           41091,
           40774,
           46586,
           39003,
           48285,
           34626,
           36274,
           47572,
           56108,
           55331,
           42320,
           45642,
           52130,
           50965,
           49958,
           55590,
           44651,
           57524,
           49408,
           62464,
           71862,
           67196,
           55093,
           84954,
           83265,
           56178,
           54704,
           68495,
           69043,
           46561,
           53700,
           65363,
           83498,
           60781,
           58721,
           60588,
           53611,
           55887,
           58867,
           65475,
           65803,
           59761,
           61300,
           65000,
           79654,
           79894,
           78822,
           82003,
           69657,
           74002,
           54810,
           56934,
           59932,
           54926,
           55299,
           59273,
           67756,
           62593,
           59633,
           59327,
           53106,
           52550,
           55330,
           52840,
           51915,
           53430,
           54354,
           61453,
           55890,
           56079,
           42326,
           61436,
           42797,
           53579,
           58170,
           46276,
           56701,
           61474,
           62939,
           56918,
           55904,
           63094,
           54266,
           60645,
           53506,
           55945,
           53387,
           59719,
           57491,
           53850,
           52958,
           32372,
           31945,
           38541,
           39969,
           38409,
           43053,
           53677,
           50405,
           41993,
           43240,
           38112,
           39634,
           46102,
           45243,
           58174,
           55862,
           60360,
           54659,
           60097,
           55182,
           57013,
           61019,
           69328,
           76214,
           52238,
           60755,
           56957,
           64021,
           44082,
           51121,
           54997,
           49603,
           52172,
           56941,
           57155,
           49045,
           51071,
           40552,
           45755,
           43286,
           50189,
           42760,
           43215,
           48133,
           54728,
           47906,
           47632,
           52718,
           56503,
           63882,
           45915,
           48262,
           62373,
           56856,
           53600,
           62145,
           63131,
           62483,
           64892,
           59701,
           61584,
           62045,
           64428,
           62453,
           60914,
           60469,
           63811
          ],
          "coloraxis": "coloraxis",
          "symbol": "circle"
         },
         "mode": "markers",
         "name": "",
         "orientation": "v",
         "showlegend": false,
         "type": "scatter",
         "x": [
          52450,
          48724,
          46228,
          48292,
          51999,
          54900,
          50106,
          53262,
          52812,
          51099,
          49903,
          53652,
          47126,
          53015,
          48361,
          49788,
          49047,
          49191,
          48251,
          51007,
          47230,
          51930,
          46693,
          52698,
          47821,
          51621,
          46551,
          51002,
          53867,
          46800,
          60028,
          58064,
          58157,
          56193,
          51414,
          57065,
          58263,
          63091,
          57162,
          55769,
          53808,
          47184,
          56404,
          58104,
          66086,
          49879,
          51582,
          54832,
          55922,
          61259,
          63303,
          59266,
          48935,
          56022,
          56165,
          52864,
          48720,
          55162,
          66933,
          53892,
          67860,
          66891,
          71676,
          83036,
          67002,
          73659,
          67312,
          69585,
          68116,
          64030,
          70842,
          80692,
          79006,
          79723,
          57807,
          50113,
          63227,
          59972,
          55170,
          72651,
          66128,
          75138,
          44857,
          53138,
          45552,
          52837,
          52768,
          44692,
          41091,
          40774,
          46586,
          39003,
          48285,
          34626,
          36274,
          47572,
          56108,
          55331,
          42320,
          45642,
          52130,
          50965,
          49958,
          55590,
          44651,
          57524,
          49408,
          62464,
          71862,
          67196,
          55093,
          84954,
          83265,
          56178,
          54704,
          68495,
          69043,
          46561,
          53700,
          65363,
          83498,
          60781,
          58721,
          60588,
          53611,
          55887,
          58867,
          65475,
          65803,
          59761,
          61300,
          65000,
          79654,
          79894,
          78822,
          82003,
          69657,
          74002,
          54810,
          56934,
          59932,
          54926,
          55299,
          59273,
          67756,
          62593,
          59633,
          59327,
          53106,
          52550,
          55330,
          52840,
          51915,
          53430,
          54354,
          61453,
          55890,
          56079,
          42326,
          61436,
          42797,
          53579,
          58170,
          46276,
          56701,
          61474,
          62939,
          56918,
          55904,
          63094,
          54266,
          60645,
          53506,
          55945,
          53387,
          59719,
          57491,
          53850,
          52958,
          32372,
          31945,
          38541,
          39969,
          38409,
          43053,
          53677,
          50405,
          41993,
          43240,
          38112,
          39634,
          46102,
          45243,
          58174,
          55862,
          60360,
          54659,
          60097,
          55182,
          57013,
          61019,
          69328,
          76214,
          52238,
          60755,
          56957,
          64021,
          44082,
          51121,
          54997,
          49603,
          52172,
          56941,
          57155,
          49045,
          51071,
          40552,
          45755,
          43286,
          50189,
          42760,
          43215,
          48133,
          54728,
          47906,
          47632,
          52718,
          56503,
          63882,
          45915,
          48262,
          62373,
          56856,
          53600,
          62145,
          63131,
          62483,
          64892,
          59701,
          61584,
          62045,
          64428,
          62453,
          60914,
          60469,
          63811
         ],
         "xaxis": "x",
         "y": [
          0.3643542200128687,
          0.33642074027338764,
          0.696334867731741,
          0.9748708435547785,
          0.8829069920008813,
          0.03952587904200498,
          0.31970930390341407,
          0.08871206600773324,
          0.14881819271389948,
          0.10299201430768662,
          0.10725165233635395,
          0.7283335658758985,
          0.595399513630596,
          0.7387385484916911,
          0.5256134922361699,
          0.5269422213118778,
          0.6789331308508707,
          0.11351612794732016,
          0.15600497480375133,
          0.9175584395175406,
          0.6241275184954003,
          0.6973586277077083,
          0.19806421996739684,
          0.3647003463712098,
          0.033949204217020065,
          0.2836260015478118,
          0.14657854613137108,
          0.6606056391373969,
          0.9204949376089989,
          0.35491821712406724,
          0.9976113677101888,
          0.5222820330075532,
          0.9138375726239886,
          0.818839227784928,
          0.37893061350977014,
          0.701326298339517,
          0.3728633182260942,
          0.16386298659133947,
          0.7971017263113291,
          0.9999845217781551,
          0.8666407974070957,
          0.13974676674196956,
          0.9798209701266303,
          0.8935168656998499,
          0.6218219819454207,
          0.9062403674763058,
          0.7978199000882094,
          0.8017112699121131,
          0.9660163139313139,
          0.4532275330118261,
          0.07973968121757005,
          0.577141477798269,
          0.7499721746821312,
          0.2286370789569455,
          0.5433338712290006,
          0.8905575703847657,
          0.46655089253230503,
          0.6410365198090295,
          0.06982656051778209,
          0.15665719380766507,
          0.2068805901181792,
          0.40535283380572845,
          0.061825904525000426,
          0.04616141473942795,
          0.13757812589312884,
          0.000003235860070090525,
          0.006597527597736556,
          0.5338181607266598,
          0.18030771206132973,
          0.9735759487756153,
          0.23994002131339187,
          0.286452873726888,
          0.7040943185692065,
          0.6072056000887777,
          0.49034786076954273,
          0.09634784164271883,
          0.49259271191444437,
          0.42341203496701924,
          0.13365500878579803,
          0.6759588538059694,
          0.7166237186182656,
          0.4986885817982422,
          0.7252555176398444,
          0.9723504710178332,
          0.5350366352182998,
          0.7219490780001548,
          0.5697450982294338,
          0.24443245346302248,
          0.2485210377936178,
          0.4720427028260217,
          0.7335434469573625,
          0.3332732130644561,
          0.2927486912175518,
          0.3849870660635266,
          0.1294531723327622,
          0.35950670410317437,
          0.5110754271613441,
          0.6744787619843043,
          0.5187293924011641,
          0.6587278637111975,
          0.8892829218252015,
          0.4594934340057512,
          0.41880950273351764,
          0.17923256403980242,
          0.1931615381222651,
          0.20941577474446807,
          0.11812500941034348,
          0.7113072428675314,
          0.5875952565074597,
          0.49103521756936896,
          0.09775982387443267,
          0.5534240038043666,
          0.4149835285666569,
          0.38568433493234777,
          0.27480349534590387,
          0.6018276666858229,
          0.8911734772680976,
          0.02519682994618036,
          0.15439695600857362,
          0.41957771622058915,
          0.8281333704896844,
          0.9705154663971404,
          0.27964664438023445,
          0.9561975449082915,
          0.7558385446420289,
          0.9444273230696527,
          0.9778196911564028,
          0.9711481550168927,
          0.9895743981936062,
          0.9642923482350585,
          0.9926248888146655,
          0.9646924603065329,
          0.4451273529902521,
          0.4158274923535952,
          0.40471750041104687,
          0.6822504088974245,
          0.7547826637633814,
          0.614444084743355,
          0.614000697377396,
          0.29114348228386144,
          0.26225642391069176,
          0.20469998037249906,
          0.2675421080131195,
          0.30048536478803944,
          0.8967415102011653,
          0.6042400509373586,
          0.6367332501344525,
          0.8496891053435833,
          0.907547703703893,
          0.9789421640343493,
          0.949468980488076,
          0.8165437008432076,
          0.7354973058866896,
          0.8011989949770163,
          0.07588988019877904,
          0.4119112784815509,
          0.33872012847052135,
          0.7781728201076288,
          0.46441330704395006,
          0.9570485221839876,
          0.9441893854456737,
          0.2341367616695978,
          0.9549372245773305,
          0.12858384906006767,
          0.48125154276998444,
          0.940527968903325,
          0.7491169039623382,
          0.5122077973073299,
          0.8916818899623321,
          0.7698927141594042,
          0.9432165297365345,
          0.08166797904700238,
          0.5013226030815721,
          0.5128665361900804,
          0.3476773557205361,
          0.17095337178503395,
          0.4762257373250971,
          0.1754973663906947,
          0.7816837443656214,
          0.41343043101981847,
          0.10346934250045643,
          0.46403418193086987,
          0.14816881233150087,
          0.24393809441021236,
          0.22401674846647732,
          0.8350967912598869,
          0.6925595062244001,
          0.5833920495149834,
          0.3451717034444198,
          0.14392709287360958,
          0.6360103546757545,
          0.4477213273395007,
          0.3487700436896543,
          0.5204026181631248,
          0.42501008370952525,
          0.641579979789947,
          0.7875068874959126,
          0.2418188059892019,
          0.3092170818779442,
          0.2039981034973639,
          0.7946414250104686,
          0.3303845437753647,
          0.6576061702881248,
          0.8360978720828713,
          0.6812193203778544,
          0.3014761511680612,
          0.27200238357103973,
          0.644302945636687,
          0.9003825882281462,
          0.1860030068127218,
          0.4087944255021833,
          0.3043654221445775,
          0.16615661414300179,
          0.26889248120943815,
          0.6352746200435414,
          0.45023402439586213,
          0.6909340619383678,
          0.39555709755954843,
          0.5360058703119659,
          0.1359573318245357,
          0.24450876033958635,
          0.07701313064421132,
          0.2031340855933663,
          0.22927922178437485,
          0.42011617671513046,
          0.3203962877067537,
          0.09559513574182626,
          0.5352685611275767,
          0.9356256383243374,
          0.2954430010774314,
          0.15344629220638714,
          0.5366539908023651,
          0.8888467605151951,
          0.5182783874128379,
          0.2733332989464705,
          0.2100572006067488,
          0.641432496247302,
          0.10422276157752317,
          0.10650328072197816,
          0.4128308577534187,
          0.9419194571506209,
          0.9118511396307067,
          0.6951020248246865,
          0.7373673964126818,
          0.30307599799342827,
          0.12265182078628248
         ],
         "yaxis": "y"
        },
        {
         "hovertemplate": "<b>OLS trendline</b><br>Score = 3.68356e-06 * Average income + 0.296862<br>R<sup>2</sup>=0.015560<br><br>Average income=%{x}<br>Score=%{y} <b>(trend)</b><extra></extra>",
         "legendgroup": "",
         "marker": {
          "symbol": "circle"
         },
         "mode": "lines",
         "name": "",
         "showlegend": false,
         "type": "scatter",
         "x": [
          31945,
          32372,
          34626,
          36274,
          38112,
          38409,
          38541,
          39003,
          39634,
          39969,
          40552,
          40774,
          41091,
          41993,
          42320,
          42326,
          42760,
          42797,
          43053,
          43215,
          43240,
          43286,
          44082,
          44651,
          44692,
          44857,
          45243,
          45552,
          45642,
          45755,
          45915,
          46102,
          46228,
          46276,
          46551,
          46561,
          46586,
          46693,
          46800,
          47126,
          47184,
          47230,
          47572,
          47632,
          47821,
          47906,
          48133,
          48251,
          48262,
          48285,
          48292,
          48361,
          48720,
          48724,
          48935,
          49045,
          49047,
          49191,
          49408,
          49603,
          49788,
          49879,
          49903,
          49958,
          50106,
          50113,
          50189,
          50405,
          50965,
          51002,
          51007,
          51071,
          51099,
          51121,
          51414,
          51582,
          51621,
          51915,
          51930,
          51999,
          52130,
          52172,
          52238,
          52450,
          52550,
          52698,
          52718,
          52768,
          52812,
          52837,
          52840,
          52864,
          52958,
          53015,
          53106,
          53138,
          53262,
          53387,
          53430,
          53506,
          53579,
          53600,
          53611,
          53652,
          53677,
          53700,
          53808,
          53850,
          53867,
          53892,
          54266,
          54354,
          54659,
          54704,
          54728,
          54810,
          54832,
          54900,
          54926,
          54997,
          55093,
          55162,
          55170,
          55182,
          55299,
          55330,
          55331,
          55590,
          55769,
          55862,
          55887,
          55890,
          55904,
          55922,
          55945,
          56022,
          56079,
          56108,
          56165,
          56178,
          56193,
          56404,
          56503,
          56701,
          56856,
          56918,
          56934,
          56941,
          56957,
          57013,
          57065,
          57155,
          57162,
          57491,
          57524,
          57807,
          58064,
          58104,
          58157,
          58170,
          58174,
          58263,
          58721,
          58867,
          59266,
          59273,
          59327,
          59633,
          59701,
          59719,
          59761,
          59932,
          59972,
          60028,
          60097,
          60360,
          60469,
          60588,
          60645,
          60755,
          60781,
          60914,
          61019,
          61259,
          61300,
          61436,
          61453,
          61474,
          61584,
          62045,
          62145,
          62373,
          62453,
          62464,
          62483,
          62593,
          62939,
          63091,
          63094,
          63131,
          63227,
          63303,
          63811,
          63882,
          64021,
          64030,
          64428,
          64892,
          65000,
          65363,
          65475,
          65803,
          66086,
          66128,
          66891,
          66933,
          67002,
          67196,
          67312,
          67756,
          67860,
          68116,
          68495,
          69043,
          69328,
          69585,
          69657,
          70842,
          71676,
          71862,
          72651,
          73659,
          74002,
          75138,
          76214,
          78822,
          79006,
          79654,
          79723,
          79894,
          80692,
          82003,
          83036,
          83265,
          83498,
          84954
         ],
         "xaxis": "x",
         "y": [
          0.41453302311588747,
          0.41610590490049937,
          0.4244086579274672,
          0.4304791712320115,
          0.43724956167724965,
          0.438343580155071,
          0.4388298105896583,
          0.44053161711071387,
          0.442855945930597,
          0.4440899398365572,
          0.4462374575893177,
          0.44705520877475996,
          0.44822289853054914,
          0.45154547316689564,
          0.45274999856166864,
          0.45277209994505896,
          0.45437076667695964,
          0.4545070585412,
          0.45545005089918744,
          0.4560467882507264,
          0.45613887734818614,
          0.456308321287512,
          0.4592404381506293,
          0.4613363860088123,
          0.4614874121286463,
          0.46209520017188044,
          0.46351705583665836,
          0.4646552770812604,
          0.4649867978321154,
          0.4654030405526333,
          0.4659924107763755,
          0.46668123722537413,
          0.4671453662765711,
          0.46732217734369375,
          0.4683351574157506,
          0.4683719930547345,
          0.4684640821521942,
          0.46885822348932177,
          0.4692523648264494,
          0.47045320665732404,
          0.47066685336343056,
          0.47083629730275645,
          0.47209607615600535,
          0.4723170899899086,
          0.473013283566704,
          0.4733263864980671,
          0.4741625555030013,
          0.47459721604301114,
          0.4746377352458934,
          0.47472245721555634,
          0.47474824216284506,
          0.4750024080718339,
          0.47632480751135536,
          0.4763395417669489,
          0.4771167737495089,
          0.4775219657783316,
          0.4775293329061284,
          0.47805976610749634,
          0.4788590994734467,
          0.47957739443363245,
          0.48025885375483435,
          0.48059405806958766,
          0.48068246360314903,
          0.4808850596175604,
          0.4814302270745219,
          0.48145601202181065,
          0.4817359628780882,
          0.4825316126801401,
          0.48459440846323765,
          0.484730700327478,
          0.48474911814696997,
          0.48498486623646686,
          0.48508800602562174,
          0.4851690444313863,
          0.4862483286536141,
          0.4868671673885434,
          0.4870108263805806,
          0.4880937941667068,
          0.48814904762518263,
          0.4884032135341714,
          0.4888857604048603,
          0.48904047008859264,
          0.4892835853058863,
          0.49006450085234465,
          0.4904328572421835,
          0.490978024699145,
          0.4910516959771128,
          0.4912358741720322,
          0.4913979509835613,
          0.49149004008102104,
          0.4915010907727162,
          0.4915894963062775,
          0.49193575131272604,
          0.49214571445493416,
          0.4924809187696875,
          0.49259879281443597,
          0.49305555473783613,
          0.49351600022513475,
          0.4936743934727654,
          0.49395434432904295,
          0.4942232444936253,
          0.4943005993354915,
          0.49434111853837376,
          0.4944921446582077,
          0.4945842337556674,
          0.4946689557253303,
          0.4950667806263563,
          0.4952214903100886,
          0.4952841108963612,
          0.49537619999382093,
          0.4967538528918183,
          0.49707800651487644,
          0.498201493503885,
          0.49836725387931247,
          0.49845565941287373,
          0.4987577116525416,
          0.49883875005830614,
          0.4990892324033966,
          0.4991850050647547,
          0.49944653810154027,
          0.49980016023578555,
          0.5000543261447744,
          0.5000837946559615,
          0.5001279974227422,
          0.5005589743988537,
          0.5006731648797037,
          0.500676848443602,
          0.5016308914932847,
          0.5022902494310962,
          0.5026328208736464,
          0.5027249099711061,
          0.5027359606628012,
          0.5027875305573787,
          0.5028538347075497,
          0.5029385566772127,
          0.5032221910973885,
          0.5034321542395968,
          0.50353897759265,
          0.5037489407348581,
          0.5037968270655372,
          0.503852080524013,
          0.504629312506573,
          0.5049939853325134,
          0.5057233309843944,
          0.5062942833886446,
          0.5065226643503447,
          0.5065816013727189,
          0.5066073863200076,
          0.5066663233423818,
          0.5068726029206916,
          0.5070641482434077,
          0.5073956689942628,
          0.5074214539415515,
          0.5086333464641213,
          0.5087549040727681,
          0.5097973526560121,
          0.5107440285778979,
          0.5108913711338334,
          0.5110866000204481,
          0.5111344863511271,
          0.5111492206067207,
          0.5114770577936772,
          0.5131641300591392,
          0.5137019303883039,
          0.5151716723837609,
          0.5151974573310497,
          0.5153963697815627,
          0.5165235403344696,
          0.5167740226795601,
          0.516840326829731,
          0.5169950365134633,
          0.5176249259400878,
          0.5177722684960233,
          0.5179785480743331,
          0.5182327139833218,
          0.519201491288598,
          0.5196029997535224,
          0.5200413438574306,
          0.5202513069996388,
          0.5206564990284616,
          0.5207522716898196,
          0.5212421856883054,
          0.5216289598976361,
          0.5225130152332493,
          0.5226640413530833,
          0.5231650060432641,
          0.5232276266295367,
          0.5233049814714029,
          0.5237101735002256,
          0.5254082964573827,
          0.5257766528472216,
          0.5266165054160542,
          0.5269111905279253,
          0.5269517097308076,
          0.5270216974448769,
          0.5274268894736996,
          0.5287014025825421,
          0.5292613042950972,
          0.5292723549867924,
          0.5294086468510327,
          0.529762268985278,
          0.5300422198415555,
          0.5319134703019369,
          0.5321750033387225,
          0.5326870187205985,
          0.532720170795684,
          0.5341862292272427,
          0.5358954028760949,
          0.5362932277771209,
          0.537630361472236,
          0.5380429206288555,
          0.5392511295875269,
          0.540293578170771,
          0.5404482878545032,
          0.5432588471089737,
          0.543413556792706,
          0.5436677227016948,
          0.5443823340979822,
          0.5448096275101952,
          0.5464451298810797,
          0.5468282205265121,
          0.5477712128844996,
          0.549167283601989,
          0.5511858766183058,
          0.5522356923293466,
          0.5531823682512325,
          0.5534475848519164,
          0.5578126080715068,
          0.5608847003627628,
          0.5615698432478631,
          0.5644761751636918,
          0.5681892075732673,
          0.5694526699904146,
          0.573637198578984,
          0.57760071333365,
          0.5872074479806475,
          0.5878852237379509,
          0.5902721731441067,
          0.5905263390530955,
          0.5911562284797199,
          0.5940957124706341,
          0.5989248647414214,
          0.6027299862484568,
          0.6035735223811878,
          0.6044317927695122,
          0.609795061805566
         ],
         "yaxis": "y"
        }
       ],
       "layout": {
        "coloraxis": {
         "colorbar": {
          "title": {
           "text": "Average income"
          }
         },
         "colorscale": [
          [
           0,
           "#0d0887"
          ],
          [
           0.1111111111111111,
           "#46039f"
          ],
          [
           0.2222222222222222,
           "#7201a8"
          ],
          [
           0.3333333333333333,
           "#9c179e"
          ],
          [
           0.4444444444444444,
           "#bd3786"
          ],
          [
           0.5555555555555556,
           "#d8576b"
          ],
          [
           0.6666666666666666,
           "#ed7953"
          ],
          [
           0.7777777777777778,
           "#fb9f3a"
          ],
          [
           0.8888888888888888,
           "#fdca26"
          ],
          [
           1,
           "#f0f921"
          ]
         ]
        },
        "height": 600,
        "legend": {
         "tracegroupgap": 0
        },
        "template": {
         "data": {
          "bar": [
           {
            "error_x": {
             "color": "#2a3f5f"
            },
            "error_y": {
             "color": "#2a3f5f"
            },
            "marker": {
             "line": {
              "color": "#E5ECF6",
              "width": 0.5
             },
             "pattern": {
              "fillmode": "overlay",
              "size": 10,
              "solidity": 0.2
             }
            },
            "type": "bar"
           }
          ],
          "barpolar": [
           {
            "marker": {
             "line": {
              "color": "#E5ECF6",
              "width": 0.5
             },
             "pattern": {
              "fillmode": "overlay",
              "size": 10,
              "solidity": 0.2
             }
            },
            "type": "barpolar"
           }
          ],
          "carpet": [
           {
            "aaxis": {
             "endlinecolor": "#2a3f5f",
             "gridcolor": "white",
             "linecolor": "white",
             "minorgridcolor": "white",
             "startlinecolor": "#2a3f5f"
            },
            "baxis": {
             "endlinecolor": "#2a3f5f",
             "gridcolor": "white",
             "linecolor": "white",
             "minorgridcolor": "white",
             "startlinecolor": "#2a3f5f"
            },
            "type": "carpet"
           }
          ],
          "choropleth": [
           {
            "colorbar": {
             "outlinewidth": 0,
             "ticks": ""
            },
            "type": "choropleth"
           }
          ],
          "contour": [
           {
            "colorbar": {
             "outlinewidth": 0,
             "ticks": ""
            },
            "colorscale": [
             [
              0,
              "#0d0887"
             ],
             [
              0.1111111111111111,
              "#46039f"
             ],
             [
              0.2222222222222222,
              "#7201a8"
             ],
             [
              0.3333333333333333,
              "#9c179e"
             ],
             [
              0.4444444444444444,
              "#bd3786"
             ],
             [
              0.5555555555555556,
              "#d8576b"
             ],
             [
              0.6666666666666666,
              "#ed7953"
             ],
             [
              0.7777777777777778,
              "#fb9f3a"
             ],
             [
              0.8888888888888888,
              "#fdca26"
             ],
             [
              1,
              "#f0f921"
             ]
            ],
            "type": "contour"
           }
          ],
          "contourcarpet": [
           {
            "colorbar": {
             "outlinewidth": 0,
             "ticks": ""
            },
            "type": "contourcarpet"
           }
          ],
          "heatmap": [
           {
            "colorbar": {
             "outlinewidth": 0,
             "ticks": ""
            },
            "colorscale": [
             [
              0,
              "#0d0887"
             ],
             [
              0.1111111111111111,
              "#46039f"
             ],
             [
              0.2222222222222222,
              "#7201a8"
             ],
             [
              0.3333333333333333,
              "#9c179e"
             ],
             [
              0.4444444444444444,
              "#bd3786"
             ],
             [
              0.5555555555555556,
              "#d8576b"
             ],
             [
              0.6666666666666666,
              "#ed7953"
             ],
             [
              0.7777777777777778,
              "#fb9f3a"
             ],
             [
              0.8888888888888888,
              "#fdca26"
             ],
             [
              1,
              "#f0f921"
             ]
            ],
            "type": "heatmap"
           }
          ],
          "heatmapgl": [
           {
            "colorbar": {
             "outlinewidth": 0,
             "ticks": ""
            },
            "colorscale": [
             [
              0,
              "#0d0887"
             ],
             [
              0.1111111111111111,
              "#46039f"
             ],
             [
              0.2222222222222222,
              "#7201a8"
             ],
             [
              0.3333333333333333,
              "#9c179e"
             ],
             [
              0.4444444444444444,
              "#bd3786"
             ],
             [
              0.5555555555555556,
              "#d8576b"
             ],
             [
              0.6666666666666666,
              "#ed7953"
             ],
             [
              0.7777777777777778,
              "#fb9f3a"
             ],
             [
              0.8888888888888888,
              "#fdca26"
             ],
             [
              1,
              "#f0f921"
             ]
            ],
            "type": "heatmapgl"
           }
          ],
          "histogram": [
           {
            "marker": {
             "pattern": {
              "fillmode": "overlay",
              "size": 10,
              "solidity": 0.2
             }
            },
            "type": "histogram"
           }
          ],
          "histogram2d": [
           {
            "colorbar": {
             "outlinewidth": 0,
             "ticks": ""
            },
            "colorscale": [
             [
              0,
              "#0d0887"
             ],
             [
              0.1111111111111111,
              "#46039f"
             ],
             [
              0.2222222222222222,
              "#7201a8"
             ],
             [
              0.3333333333333333,
              "#9c179e"
             ],
             [
              0.4444444444444444,
              "#bd3786"
             ],
             [
              0.5555555555555556,
              "#d8576b"
             ],
             [
              0.6666666666666666,
              "#ed7953"
             ],
             [
              0.7777777777777778,
              "#fb9f3a"
             ],
             [
              0.8888888888888888,
              "#fdca26"
             ],
             [
              1,
              "#f0f921"
             ]
            ],
            "type": "histogram2d"
           }
          ],
          "histogram2dcontour": [
           {
            "colorbar": {
             "outlinewidth": 0,
             "ticks": ""
            },
            "colorscale": [
             [
              0,
              "#0d0887"
             ],
             [
              0.1111111111111111,
              "#46039f"
             ],
             [
              0.2222222222222222,
              "#7201a8"
             ],
             [
              0.3333333333333333,
              "#9c179e"
             ],
             [
              0.4444444444444444,
              "#bd3786"
             ],
             [
              0.5555555555555556,
              "#d8576b"
             ],
             [
              0.6666666666666666,
              "#ed7953"
             ],
             [
              0.7777777777777778,
              "#fb9f3a"
             ],
             [
              0.8888888888888888,
              "#fdca26"
             ],
             [
              1,
              "#f0f921"
             ]
            ],
            "type": "histogram2dcontour"
           }
          ],
          "mesh3d": [
           {
            "colorbar": {
             "outlinewidth": 0,
             "ticks": ""
            },
            "type": "mesh3d"
           }
          ],
          "parcoords": [
           {
            "line": {
             "colorbar": {
              "outlinewidth": 0,
              "ticks": ""
             }
            },
            "type": "parcoords"
           }
          ],
          "pie": [
           {
            "automargin": true,
            "type": "pie"
           }
          ],
          "scatter": [
           {
            "fillpattern": {
             "fillmode": "overlay",
             "size": 10,
             "solidity": 0.2
            },
            "type": "scatter"
           }
          ],
          "scatter3d": [
           {
            "line": {
             "colorbar": {
              "outlinewidth": 0,
              "ticks": ""
             }
            },
            "marker": {
             "colorbar": {
              "outlinewidth": 0,
              "ticks": ""
             }
            },
            "type": "scatter3d"
           }
          ],
          "scattercarpet": [
           {
            "marker": {
             "colorbar": {
              "outlinewidth": 0,
              "ticks": ""
             }
            },
            "type": "scattercarpet"
           }
          ],
          "scattergeo": [
           {
            "marker": {
             "colorbar": {
              "outlinewidth": 0,
              "ticks": ""
             }
            },
            "type": "scattergeo"
           }
          ],
          "scattergl": [
           {
            "marker": {
             "colorbar": {
              "outlinewidth": 0,
              "ticks": ""
             }
            },
            "type": "scattergl"
           }
          ],
          "scattermapbox": [
           {
            "marker": {
             "colorbar": {
              "outlinewidth": 0,
              "ticks": ""
             }
            },
            "type": "scattermapbox"
           }
          ],
          "scatterpolar": [
           {
            "marker": {
             "colorbar": {
              "outlinewidth": 0,
              "ticks": ""
             }
            },
            "type": "scatterpolar"
           }
          ],
          "scatterpolargl": [
           {
            "marker": {
             "colorbar": {
              "outlinewidth": 0,
              "ticks": ""
             }
            },
            "type": "scatterpolargl"
           }
          ],
          "scatterternary": [
           {
            "marker": {
             "colorbar": {
              "outlinewidth": 0,
              "ticks": ""
             }
            },
            "type": "scatterternary"
           }
          ],
          "surface": [
           {
            "colorbar": {
             "outlinewidth": 0,
             "ticks": ""
            },
            "colorscale": [
             [
              0,
              "#0d0887"
             ],
             [
              0.1111111111111111,
              "#46039f"
             ],
             [
              0.2222222222222222,
              "#7201a8"
             ],
             [
              0.3333333333333333,
              "#9c179e"
             ],
             [
              0.4444444444444444,
              "#bd3786"
             ],
             [
              0.5555555555555556,
              "#d8576b"
             ],
             [
              0.6666666666666666,
              "#ed7953"
             ],
             [
              0.7777777777777778,
              "#fb9f3a"
             ],
             [
              0.8888888888888888,
              "#fdca26"
             ],
             [
              1,
              "#f0f921"
             ]
            ],
            "type": "surface"
           }
          ],
          "table": [
           {
            "cells": {
             "fill": {
              "color": "#EBF0F8"
             },
             "line": {
              "color": "white"
             }
            },
            "header": {
             "fill": {
              "color": "#C8D4E3"
             },
             "line": {
              "color": "white"
             }
            },
            "type": "table"
           }
          ]
         },
         "layout": {
          "annotationdefaults": {
           "arrowcolor": "#2a3f5f",
           "arrowhead": 0,
           "arrowwidth": 1
          },
          "autotypenumbers": "strict",
          "coloraxis": {
           "colorbar": {
            "outlinewidth": 0,
            "ticks": ""
           }
          },
          "colorscale": {
           "diverging": [
            [
             0,
             "#8e0152"
            ],
            [
             0.1,
             "#c51b7d"
            ],
            [
             0.2,
             "#de77ae"
            ],
            [
             0.3,
             "#f1b6da"
            ],
            [
             0.4,
             "#fde0ef"
            ],
            [
             0.5,
             "#f7f7f7"
            ],
            [
             0.6,
             "#e6f5d0"
            ],
            [
             0.7,
             "#b8e186"
            ],
            [
             0.8,
             "#7fbc41"
            ],
            [
             0.9,
             "#4d9221"
            ],
            [
             1,
             "#276419"
            ]
           ],
           "sequential": [
            [
             0,
             "#0d0887"
            ],
            [
             0.1111111111111111,
             "#46039f"
            ],
            [
             0.2222222222222222,
             "#7201a8"
            ],
            [
             0.3333333333333333,
             "#9c179e"
            ],
            [
             0.4444444444444444,
             "#bd3786"
            ],
            [
             0.5555555555555556,
             "#d8576b"
            ],
            [
             0.6666666666666666,
             "#ed7953"
            ],
            [
             0.7777777777777778,
             "#fb9f3a"
            ],
            [
             0.8888888888888888,
             "#fdca26"
            ],
            [
             1,
             "#f0f921"
            ]
           ],
           "sequentialminus": [
            [
             0,
             "#0d0887"
            ],
            [
             0.1111111111111111,
             "#46039f"
            ],
            [
             0.2222222222222222,
             "#7201a8"
            ],
            [
             0.3333333333333333,
             "#9c179e"
            ],
            [
             0.4444444444444444,
             "#bd3786"
            ],
            [
             0.5555555555555556,
             "#d8576b"
            ],
            [
             0.6666666666666666,
             "#ed7953"
            ],
            [
             0.7777777777777778,
             "#fb9f3a"
            ],
            [
             0.8888888888888888,
             "#fdca26"
            ],
            [
             1,
             "#f0f921"
            ]
           ]
          },
          "colorway": [
           "#636efa",
           "#EF553B",
           "#00cc96",
           "#ab63fa",
           "#FFA15A",
           "#19d3f3",
           "#FF6692",
           "#B6E880",
           "#FF97FF",
           "#FECB52"
          ],
          "font": {
           "color": "#2a3f5f"
          },
          "geo": {
           "bgcolor": "white",
           "lakecolor": "white",
           "landcolor": "#E5ECF6",
           "showlakes": true,
           "showland": true,
           "subunitcolor": "white"
          },
          "hoverlabel": {
           "align": "left"
          },
          "hovermode": "closest",
          "mapbox": {
           "style": "light"
          },
          "paper_bgcolor": "white",
          "plot_bgcolor": "#E5ECF6",
          "polar": {
           "angularaxis": {
            "gridcolor": "white",
            "linecolor": "white",
            "ticks": ""
           },
           "bgcolor": "#E5ECF6",
           "radialaxis": {
            "gridcolor": "white",
            "linecolor": "white",
            "ticks": ""
           }
          },
          "scene": {
           "xaxis": {
            "backgroundcolor": "#E5ECF6",
            "gridcolor": "white",
            "gridwidth": 2,
            "linecolor": "white",
            "showbackground": true,
            "ticks": "",
            "zerolinecolor": "white"
           },
           "yaxis": {
            "backgroundcolor": "#E5ECF6",
            "gridcolor": "white",
            "gridwidth": 2,
            "linecolor": "white",
            "showbackground": true,
            "ticks": "",
            "zerolinecolor": "white"
           },
           "zaxis": {
            "backgroundcolor": "#E5ECF6",
            "gridcolor": "white",
            "gridwidth": 2,
            "linecolor": "white",
            "showbackground": true,
            "ticks": "",
            "zerolinecolor": "white"
           }
          },
          "shapedefaults": {
           "line": {
            "color": "#2a3f5f"
           }
          },
          "ternary": {
           "aaxis": {
            "gridcolor": "white",
            "linecolor": "white",
            "ticks": ""
           },
           "baxis": {
            "gridcolor": "white",
            "linecolor": "white",
            "ticks": ""
           },
           "bgcolor": "#E5ECF6",
           "caxis": {
            "gridcolor": "white",
            "linecolor": "white",
            "ticks": ""
           }
          },
          "title": {
           "x": 0.05
          },
          "xaxis": {
           "automargin": true,
           "gridcolor": "white",
           "linecolor": "white",
           "ticks": "",
           "title": {
            "standoff": 15
           },
           "zerolinecolor": "white",
           "zerolinewidth": 2
          },
          "yaxis": {
           "automargin": true,
           "gridcolor": "white",
           "linecolor": "white",
           "ticks": "",
           "title": {
            "standoff": 15
           },
           "zerolinecolor": "white",
           "zerolinewidth": 2
          }
         }
        },
        "title": {
         "text": "Income vs. Score Correlation"
        },
        "xaxis": {
         "anchor": "y",
         "domain": [
          0,
          1
         ],
         "title": {
          "text": "Average income"
         }
        },
        "yaxis": {
         "anchor": "x",
         "domain": [
          0,
          1
         ],
         "title": {
          "text": "Score"
         }
        }
       }
      }
     },
     "metadata": {},
     "output_type": "display_data"
    }
   ],
   "source": [
    "fig = px.scatter(df, title='Income vs. Score Correlation', x='Average income', y='Score', color='Average income', trendline='ols', height=600)\n",
    "fig.show()"
   ]
  },
  {
   "attachments": {},
   "cell_type": "markdown",
   "id": "17620865",
   "metadata": {},
   "source": [
    "From this, we can see that there is minimal correlation between Score and Average Income. This implies that an area being \"well-resourced\" with Retail businesses, Health services, Bus stops etc. are not necessarily wealthier areas."
   ]
  },
  {
   "attachments": {},
   "cell_type": "markdown",
   "id": "94990b19",
   "metadata": {},
   "source": [
    "Table of all collected data, can be better seen by looking at Scores_data.xlsx"
   ]
  },
  {
   "cell_type": "code",
   "execution_count": 46,
   "id": "a1b00b35",
   "metadata": {},
   "outputs": [
    {
     "data": {
      "text/html": [
       "<div>\n",
       "<style scoped>\n",
       "    .dataframe tbody tr th:only-of-type {\n",
       "        vertical-align: middle;\n",
       "    }\n",
       "\n",
       "    .dataframe tbody tr th {\n",
       "        vertical-align: top;\n",
       "    }\n",
       "\n",
       "    .dataframe thead th {\n",
       "        text-align: right;\n",
       "    }\n",
       "</style>\n",
       "<table border=\"1\" class=\"dataframe\">\n",
       "  <thead>\n",
       "    <tr style=\"text-align: right;\">\n",
       "      <th></th>\n",
       "      <th>SA2 Region</th>\n",
       "      <th>Retail Z-score</th>\n",
       "      <th>Health Z-score</th>\n",
       "      <th>Stops Z-score</th>\n",
       "      <th>Schools Z-score</th>\n",
       "      <th>Crashes Z-score</th>\n",
       "      <th>Crime Z-score</th>\n",
       "      <th>Score</th>\n",
       "    </tr>\n",
       "  </thead>\n",
       "  <tbody>\n",
       "    <tr>\n",
       "      <th>0</th>\n",
       "      <td>Potts Point - Woolloomooloo</td>\n",
       "      <td>0.187257</td>\n",
       "      <td>0.218612</td>\n",
       "      <td>-1.049042</td>\n",
       "      <td>-0.435592</td>\n",
       "      <td>0.206298</td>\n",
       "      <td>12.029049</td>\n",
       "      <td>0.000003</td>\n",
       "    </tr>\n",
       "    <tr>\n",
       "      <th>0</th>\n",
       "      <td>Redfern</td>\n",
       "      <td>-0.122362</td>\n",
       "      <td>-0.055329</td>\n",
       "      <td>-1.001798</td>\n",
       "      <td>0.416602</td>\n",
       "      <td>0.803806</td>\n",
       "      <td>3.923932</td>\n",
       "      <td>0.003055</td>\n",
       "    </tr>\n",
       "    <tr>\n",
       "      <th>0</th>\n",
       "      <td>Parramatta - South</td>\n",
       "      <td>-0.054884</td>\n",
       "      <td>-0.536646</td>\n",
       "      <td>-1.119908</td>\n",
       "      <td>-1.074738</td>\n",
       "      <td>1.849446</td>\n",
       "      <td>-0.155904</td>\n",
       "      <td>0.005158</td>\n",
       "    </tr>\n",
       "    <tr>\n",
       "      <th>0</th>\n",
       "      <td>Surry Hills</td>\n",
       "      <td>1.582215</td>\n",
       "      <td>1.599338</td>\n",
       "      <td>-1.108097</td>\n",
       "      <td>-0.009495</td>\n",
       "      <td>0.574762</td>\n",
       "      <td>6.933998</td>\n",
       "      <td>0.006598</td>\n",
       "    </tr>\n",
       "    <tr>\n",
       "      <th>0</th>\n",
       "      <td>Pyrmont</td>\n",
       "      <td>0.403730</td>\n",
       "      <td>0.231247</td>\n",
       "      <td>-1.297074</td>\n",
       "      <td>-1.713884</td>\n",
       "      <td>-0.241833</td>\n",
       "      <td>1.103627</td>\n",
       "      <td>0.017634</td>\n",
       "    </tr>\n",
       "    <tr>\n",
       "      <th>...</th>\n",
       "      <td>...</td>\n",
       "      <td>...</td>\n",
       "      <td>...</td>\n",
       "      <td>...</td>\n",
       "      <td>...</td>\n",
       "      <td>...</td>\n",
       "      <td>...</td>\n",
       "      <td>...</td>\n",
       "    </tr>\n",
       "    <tr>\n",
       "      <th>0</th>\n",
       "      <td>Chatswood - East</td>\n",
       "      <td>1.104709</td>\n",
       "      <td>2.192271</td>\n",
       "      <td>-0.115972</td>\n",
       "      <td>-0.009495</td>\n",
       "      <td>0.943225</td>\n",
       "      <td>-0.155904</td>\n",
       "      <td>0.994727</td>\n",
       "    </tr>\n",
       "    <tr>\n",
       "      <th>0</th>\n",
       "      <td>Parramatta - North</td>\n",
       "      <td>1.318866</td>\n",
       "      <td>1.391161</td>\n",
       "      <td>-1.108097</td>\n",
       "      <td>0.629650</td>\n",
       "      <td>-0.062580</td>\n",
       "      <td>-0.155904</td>\n",
       "      <td>0.996954</td>\n",
       "    </tr>\n",
       "    <tr>\n",
       "      <th>0</th>\n",
       "      <td>Baulkham Hills (West) - Bella Vista</td>\n",
       "      <td>0.598903</td>\n",
       "      <td>2.809188</td>\n",
       "      <td>1.939146</td>\n",
       "      <td>0.629650</td>\n",
       "      <td>0.285966</td>\n",
       "      <td>-0.155904</td>\n",
       "      <td>0.997611</td>\n",
       "    </tr>\n",
       "    <tr>\n",
       "      <th>0</th>\n",
       "      <td>Dural - Kenthurst - Wisemans Ferry</td>\n",
       "      <td>0.311823</td>\n",
       "      <td>-0.155723</td>\n",
       "      <td>6.415522</td>\n",
       "      <td>4.890621</td>\n",
       "      <td>1.700069</td>\n",
       "      <td>-0.155904</td>\n",
       "      <td>0.999985</td>\n",
       "    </tr>\n",
       "    <tr>\n",
       "      <th>0</th>\n",
       "      <td>Sydney (North) - Millers Point</td>\n",
       "      <td>17.018879</td>\n",
       "      <td>14.366576</td>\n",
       "      <td>0.297414</td>\n",
       "      <td>-0.435592</td>\n",
       "      <td>4.239478</td>\n",
       "      <td>9.128096</td>\n",
       "      <td>1.000000</td>\n",
       "    </tr>\n",
       "  </tbody>\n",
       "</table>\n",
       "<p>359 rows × 8 columns</p>\n",
       "</div>"
      ],
      "text/plain": [
       "                             SA2 Region  Retail Z-score  Health Z-score  \\\n",
       "0           Potts Point - Woolloomooloo        0.187257        0.218612   \n",
       "0                               Redfern       -0.122362       -0.055329   \n",
       "0                    Parramatta - South       -0.054884       -0.536646   \n",
       "0                           Surry Hills        1.582215        1.599338   \n",
       "0                               Pyrmont        0.403730        0.231247   \n",
       "..                                  ...             ...             ...   \n",
       "0                      Chatswood - East        1.104709        2.192271   \n",
       "0                    Parramatta - North        1.318866        1.391161   \n",
       "0   Baulkham Hills (West) - Bella Vista        0.598903        2.809188   \n",
       "0    Dural - Kenthurst - Wisemans Ferry        0.311823       -0.155723   \n",
       "0        Sydney (North) - Millers Point       17.018879       14.366576   \n",
       "\n",
       "    Stops Z-score  Schools Z-score  Crashes Z-score  Crime Z-score     Score  \n",
       "0       -1.049042        -0.435592         0.206298      12.029049  0.000003  \n",
       "0       -1.001798         0.416602         0.803806       3.923932  0.003055  \n",
       "0       -1.119908        -1.074738         1.849446      -0.155904  0.005158  \n",
       "0       -1.108097        -0.009495         0.574762       6.933998  0.006598  \n",
       "0       -1.297074        -1.713884        -0.241833       1.103627  0.017634  \n",
       "..            ...              ...              ...            ...       ...  \n",
       "0       -0.115972        -0.009495         0.943225      -0.155904  0.994727  \n",
       "0       -1.108097         0.629650        -0.062580      -0.155904  0.996954  \n",
       "0        1.939146         0.629650         0.285966      -0.155904  0.997611  \n",
       "0        6.415522         4.890621         1.700069      -0.155904  0.999985  \n",
       "0        0.297414        -0.435592         4.239478       9.128096  1.000000  \n",
       "\n",
       "[359 rows x 8 columns]"
      ]
     },
     "execution_count": 46,
     "metadata": {},
     "output_type": "execute_result"
    }
   ],
   "source": [
    "df = pd.DataFrame(columns=['SA2 Region', 'Retail Z-score', 'Health Z-score', 'Stops Z-score', 'Schools Z-score', 'Crashes Z-score', 'Crime Z-score', 'Score'])\n",
    "for region in sorted_scores.keys():\n",
    "    row = [region, retail_zscores[region], health_zscores[region], stops_zscores[region], \n",
    "           schools_zscores[region], crash_zscores[region], crime_zscores[region], new_scores[region]]\n",
    "    row_df = pd.DataFrame([row], columns=df.columns)\n",
    "    df = pd.concat([df, row_df])\n",
    "  \n",
    "df.to_excel(\"Scores_data.xlsx\", index=False)  \n",
    "df"
   ]
  },
  {
   "attachments": {},
   "cell_type": "markdown",
   "id": "df0e7415",
   "metadata": {},
   "source": [
    "Analysis:\n",
    "\n",
    "From the table above, it can be seen that most of the regions have z-scores for all fields hovering around 0, which is to be expected. However there are immense outliers for the scores at the top and bottom, with Potts Point - Woolloomooloo having a high Crime Z-score, which resulted in its overall low score, despite being average in the other categories. Interestingly, the top scoring region Sydney (North) - Millers Point also has a high Crime Z-score, however it is balanced by even higher Retail and Health Z-scores. This is a limitation of the model, as a region with such high crime rates shouldn't be seen as the most \"well-resourced\" / best to live in region in the area.\n",
    "\n",
    "Outliers in general are a limitation of this model, as an area can be considered \"well-resourced\" with just a sufficient number of Retail businesses, Health services, etc. and sufficiently low Crash and Crime rates. In order to improve this model, the effect of these outliers could be mitigated, or the data could be otherwise standardized.\n",
    "\n",
    "Furthermore, weighting could be added, where certain aspects such as Health services and Crime rate would be weighted higher than others.\n",
    "\n",
    "In conclusion, the most \"well-resourced\" by our scoring system is Sydney (North) - Millers Point, and the least is Potts Point - Woolloomooloo. Looking at the different aspects invidually, we can find which two regions are the best and worst for each resource."
   ]
  },
  {
   "cell_type": "code",
   "execution_count": 47,
   "id": "2075319c",
   "metadata": {},
   "outputs": [
    {
     "name": "stdout",
     "output_type": "stream",
     "text": [
      "Max Values:\n",
      "Retail Z-score     17.018879\n",
      "Health Z-score     14.366576\n",
      "Stops Z-score       6.415522\n",
      "Schools Z-score     4.890621\n",
      "Crashes Z-score     4.239478\n",
      "Crime Z-score      12.029049\n",
      "dtype: float64\n",
      "Min Values:\n",
      "Retail Z-score    -0.604961\n",
      "Health Z-score    -0.870939\n",
      "Stops Z-score     -1.675026\n",
      "Schools Z-score   -2.139981\n",
      "Crashes Z-score   -1.645977\n",
      "Crime Z-score     -0.155904\n",
      "dtype: float64\n"
     ]
    }
   ],
   "source": [
    "columns = ['Retail Z-score', 'Health Z-score', 'Stops Z-score', 'Schools Z-score', 'Crashes Z-score', 'Crime Z-score']\n",
    "\n",
    "max_values = df[columns].max()\n",
    "print(\"Max Values:\")\n",
    "print(max_values)\n",
    "min_values = df[columns].min()\n",
    "print(\"Min Values:\")\n",
    "print(min_values)"
   ]
  },
  {
   "attachments": {},
   "cell_type": "markdown",
   "id": "1ed7018c",
   "metadata": {},
   "source": [
    "Using these values we get:\n",
    "- Retail: Most = Sydney (North) - Millers Point, Least = Narara\n",
    "- Health: Most = Sydney (North) - Millers Point, Least = Acacia Gardens\n",
    "- Stops: Most = Dural - Kenthurst - Wisemans Ferry, Least = Wolli Creek\n",
    "- Schools: Most = Dural - Kenthurst - Wisemans Ferry, Least = Summerland Point - Gwandalan\n",
    "- Crashes: Most = Sydney (North) - Millers Point, Least = Lilli Pilli - Port Hacking - Dolans Bay\n",
    "- Crime: Most = Potts Point - Woolloomooloo, Least = Many different regions"
   ]
  }
 ],
 "metadata": {
  "kernelspec": {
   "display_name": "Python 3 (ipykernel)",
   "language": "python",
   "name": "python3"
  },
  "language_info": {
   "codemirror_mode": {
    "name": "ipython",
    "version": 3
   },
   "file_extension": ".py",
   "mimetype": "text/x-python",
   "name": "python",
   "nbconvert_exporter": "python",
   "pygments_lexer": "ipython3",
   "version": "3.11.2"
  }
 },
 "nbformat": 4,
 "nbformat_minor": 5
}
